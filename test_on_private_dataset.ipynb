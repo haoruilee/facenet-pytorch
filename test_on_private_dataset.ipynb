{
  "nbformat": 4,
  "nbformat_minor": 0,
  "metadata": {
    "kernelspec": {
      "display_name": "Python 3",
      "language": "python",
      "name": "python3"
    },
    "language_info": {
      "codemirror_mode": {
        "name": "ipython",
        "version": 3
      },
      "file_extension": ".py",
      "mimetype": "text/x-python",
      "name": "python",
      "nbconvert_exporter": "python",
      "pygments_lexer": "ipython3",
      "version": "3.7.3"
    },
    "pycharm": {
      "stem_cell": {
        "cell_type": "raw",
        "source": [],
        "metadata": {
          "collapsed": false
        }
      }
    },
    "colab": {
      "name": "61518407_李浩瑞.ipynb",
      "provenance": [],
      "collapsed_sections": []
    },
    "widgets": {
      "application/vnd.jupyter.widget-state+json": {
        "f21ffd83028249e191b24170cc8bca52": {
          "model_module": "@jupyter-widgets/controls",
          "model_name": "HBoxModel",
          "state": {
            "_view_name": "HBoxView",
            "_dom_classes": [],
            "_model_name": "HBoxModel",
            "_view_module": "@jupyter-widgets/controls",
            "_model_module_version": "1.5.0",
            "_view_count": null,
            "_view_module_version": "1.5.0",
            "box_style": "",
            "layout": "IPY_MODEL_da4b3917826443909abe94c5673c1ff5",
            "_model_module": "@jupyter-widgets/controls",
            "children": [
              "IPY_MODEL_1cf38dd171e04746846d8e3e3d214375",
              "IPY_MODEL_2b676a53d5a641358f899108b36a77d1"
            ]
          }
        },
        "da4b3917826443909abe94c5673c1ff5": {
          "model_module": "@jupyter-widgets/base",
          "model_name": "LayoutModel",
          "state": {
            "_view_name": "LayoutView",
            "grid_template_rows": null,
            "right": null,
            "justify_content": null,
            "_view_module": "@jupyter-widgets/base",
            "overflow": null,
            "_model_module_version": "1.2.0",
            "_view_count": null,
            "flex_flow": null,
            "width": null,
            "min_width": null,
            "border": null,
            "align_items": null,
            "bottom": null,
            "_model_module": "@jupyter-widgets/base",
            "top": null,
            "grid_column": null,
            "overflow_y": null,
            "overflow_x": null,
            "grid_auto_flow": null,
            "grid_area": null,
            "grid_template_columns": null,
            "flex": null,
            "_model_name": "LayoutModel",
            "justify_items": null,
            "grid_row": null,
            "max_height": null,
            "align_content": null,
            "visibility": null,
            "align_self": null,
            "height": null,
            "min_height": null,
            "padding": null,
            "grid_auto_rows": null,
            "grid_gap": null,
            "max_width": null,
            "order": null,
            "_view_module_version": "1.2.0",
            "grid_template_areas": null,
            "object_position": null,
            "object_fit": null,
            "grid_auto_columns": null,
            "margin": null,
            "display": null,
            "left": null
          }
        },
        "1cf38dd171e04746846d8e3e3d214375": {
          "model_module": "@jupyter-widgets/controls",
          "model_name": "FloatProgressModel",
          "state": {
            "_view_name": "ProgressView",
            "style": "IPY_MODEL_6edab5f7fa9b418da4dece2e02938cae",
            "_dom_classes": [],
            "description": "100%",
            "_model_name": "FloatProgressModel",
            "bar_style": "success",
            "max": 553433881,
            "_view_module": "@jupyter-widgets/controls",
            "_model_module_version": "1.5.0",
            "value": 553433881,
            "_view_count": null,
            "_view_module_version": "1.5.0",
            "orientation": "horizontal",
            "min": 0,
            "description_tooltip": null,
            "_model_module": "@jupyter-widgets/controls",
            "layout": "IPY_MODEL_3ad03e460c244c3eb22a0972f452c69b"
          }
        },
        "2b676a53d5a641358f899108b36a77d1": {
          "model_module": "@jupyter-widgets/controls",
          "model_name": "HTMLModel",
          "state": {
            "_view_name": "HTMLView",
            "style": "IPY_MODEL_15c9b8a553534c62a0b106768dea3174",
            "_dom_classes": [],
            "description": "",
            "_model_name": "HTMLModel",
            "placeholder": "​",
            "_view_module": "@jupyter-widgets/controls",
            "_model_module_version": "1.5.0",
            "value": " 528M/528M [04:06&lt;00:00, 2.24MB/s]",
            "_view_count": null,
            "_view_module_version": "1.5.0",
            "description_tooltip": null,
            "_model_module": "@jupyter-widgets/controls",
            "layout": "IPY_MODEL_fc1ba7aa257e47809aa9f9713d33266e"
          }
        },
        "6edab5f7fa9b418da4dece2e02938cae": {
          "model_module": "@jupyter-widgets/controls",
          "model_name": "ProgressStyleModel",
          "state": {
            "_view_name": "StyleView",
            "_model_name": "ProgressStyleModel",
            "description_width": "initial",
            "_view_module": "@jupyter-widgets/base",
            "_model_module_version": "1.5.0",
            "_view_count": null,
            "_view_module_version": "1.2.0",
            "bar_color": null,
            "_model_module": "@jupyter-widgets/controls"
          }
        },
        "3ad03e460c244c3eb22a0972f452c69b": {
          "model_module": "@jupyter-widgets/base",
          "model_name": "LayoutModel",
          "state": {
            "_view_name": "LayoutView",
            "grid_template_rows": null,
            "right": null,
            "justify_content": null,
            "_view_module": "@jupyter-widgets/base",
            "overflow": null,
            "_model_module_version": "1.2.0",
            "_view_count": null,
            "flex_flow": null,
            "width": null,
            "min_width": null,
            "border": null,
            "align_items": null,
            "bottom": null,
            "_model_module": "@jupyter-widgets/base",
            "top": null,
            "grid_column": null,
            "overflow_y": null,
            "overflow_x": null,
            "grid_auto_flow": null,
            "grid_area": null,
            "grid_template_columns": null,
            "flex": null,
            "_model_name": "LayoutModel",
            "justify_items": null,
            "grid_row": null,
            "max_height": null,
            "align_content": null,
            "visibility": null,
            "align_self": null,
            "height": null,
            "min_height": null,
            "padding": null,
            "grid_auto_rows": null,
            "grid_gap": null,
            "max_width": null,
            "order": null,
            "_view_module_version": "1.2.0",
            "grid_template_areas": null,
            "object_position": null,
            "object_fit": null,
            "grid_auto_columns": null,
            "margin": null,
            "display": null,
            "left": null
          }
        },
        "15c9b8a553534c62a0b106768dea3174": {
          "model_module": "@jupyter-widgets/controls",
          "model_name": "DescriptionStyleModel",
          "state": {
            "_view_name": "StyleView",
            "_model_name": "DescriptionStyleModel",
            "description_width": "",
            "_view_module": "@jupyter-widgets/base",
            "_model_module_version": "1.5.0",
            "_view_count": null,
            "_view_module_version": "1.2.0",
            "_model_module": "@jupyter-widgets/controls"
          }
        },
        "fc1ba7aa257e47809aa9f9713d33266e": {
          "model_module": "@jupyter-widgets/base",
          "model_name": "LayoutModel",
          "state": {
            "_view_name": "LayoutView",
            "grid_template_rows": null,
            "right": null,
            "justify_content": null,
            "_view_module": "@jupyter-widgets/base",
            "overflow": null,
            "_model_module_version": "1.2.0",
            "_view_count": null,
            "flex_flow": null,
            "width": null,
            "min_width": null,
            "border": null,
            "align_items": null,
            "bottom": null,
            "_model_module": "@jupyter-widgets/base",
            "top": null,
            "grid_column": null,
            "overflow_y": null,
            "overflow_x": null,
            "grid_auto_flow": null,
            "grid_area": null,
            "grid_template_columns": null,
            "flex": null,
            "_model_name": "LayoutModel",
            "justify_items": null,
            "grid_row": null,
            "max_height": null,
            "align_content": null,
            "visibility": null,
            "align_self": null,
            "height": null,
            "min_height": null,
            "padding": null,
            "grid_auto_rows": null,
            "grid_gap": null,
            "max_width": null,
            "order": null,
            "_view_module_version": "1.2.0",
            "grid_template_areas": null,
            "object_position": null,
            "object_fit": null,
            "grid_auto_columns": null,
            "margin": null,
            "display": null,
            "left": null
          }
        }
      }
    },
    "accelerator": "GPU"
  },
  "cells": [
    {
      "cell_type": "markdown",
      "metadata": {
        "collapsed": false,
        "pycharm": {
          "name": "#%% md\n"
        },
        "id": "K2V5AJWlVdff",
        "colab_type": "text"
      },
      "source": [
        "# <center><font size=10>人脸识别</font></center>\n",
        "\n"
      ]
    },
    {
      "cell_type": "markdown",
      "metadata": {
        "id": "P5iIDu-GKM8w",
        "colab_type": "text"
      },
      "source": [
        "待做：\n",
        "1、~~把test也过一遍MTCNN~~\n",
        "\n",
        "2、~~手工筛选一遍train~~\n",
        "\n",
        "3、fintuning VGGFACE2"
      ]
    },
    {
      "cell_type": "code",
      "metadata": {
        "id": "xpLpa9bkWJW9",
        "colab_type": "code",
        "colab": {
          "base_uri": "https://localhost:8080/",
          "height": 35
        },
        "outputId": "89e1b251-95df-46fa-ad79-cd1bcb30d4e5"
      },
      "source": [
        "from google.colab import drive\n",
        "drive.mount('/content/gdrive')\n"
      ],
      "execution_count": 46,
      "outputs": [
        {
          "output_type": "stream",
          "text": [
            "Drive already mounted at /content/gdrive; to attempt to forcibly remount, call drive.mount(\"/content/gdrive\", force_remount=True).\n"
          ],
          "name": "stdout"
        }
      ]
    },
    {
      "cell_type": "code",
      "metadata": {
        "id": "wSfrU9jEWVU3",
        "colab_type": "code",
        "colab": {}
      },
      "source": [
        "import os\n",
        "os.chdir(\"/content/gdrive/My Drive/ML大作业/人脸识别\")"
      ],
      "execution_count": 0,
      "outputs": []
    },
    {
      "cell_type": "code",
      "metadata": {
        "id": "0wc6mm-8XGXg",
        "colab_type": "code",
        "colab": {}
      },
      "source": [
        "os.chdir('人脸识别大作业')"
      ],
      "execution_count": 0,
      "outputs": []
    },
    {
      "cell_type": "code",
      "metadata": {
        "id": "68zDrlWtXIsJ",
        "colab_type": "code",
        "outputId": "7b17ca62-76ed-4f12-c344-e105f3ab099a",
        "colab": {
          "base_uri": "https://localhost:8080/",
          "height": 107
        }
      },
      "source": [
        "!ls"
      ],
      "execution_count": 47,
      "outputs": [
        {
          "output_type": "stream",
          "text": [
            " 30_epoch_VGGFACE2_T9060V05781.pb  'data\\09118223_吴亦珂'    structure_test_dir\n",
            " 8_epoch_VGGFACE2_T8406V05156.pb    dataset-tools\t     test\n",
            " align_data\t\t\t    EVOLVE\t\t     train\n",
            " align_test\t\t\t    normalized_dataexclude   人脸识别大作业\n",
            " data\t\t\t\t    runs\t\t     数据库图片\n"
          ],
          "name": "stdout"
        }
      ]
    },
    {
      "cell_type": "code",
      "metadata": {
        "id": "QE58jxOSCSGZ",
        "colab_type": "code",
        "colab": {}
      },
      "source": [
        ""
      ],
      "execution_count": 0,
      "outputs": []
    },
    {
      "cell_type": "code",
      "metadata": {
        "id": "iwaUY0pXr73w",
        "colab_type": "code",
        "outputId": "7668aa61-0bf5-4198-b93e-722c6ffddc9e",
        "colab": {
          "base_uri": "https://localhost:8080/",
          "height": 323
        }
      },
      "source": [
        "!nvidia-smi"
      ],
      "execution_count": 7,
      "outputs": [
        {
          "output_type": "stream",
          "text": [
            "Thu May 28 11:27:19 2020       \n",
            "+-----------------------------------------------------------------------------+\n",
            "| NVIDIA-SMI 440.82       Driver Version: 418.67       CUDA Version: 10.1     |\n",
            "|-------------------------------+----------------------+----------------------+\n",
            "| GPU  Name        Persistence-M| Bus-Id        Disp.A | Volatile Uncorr. ECC |\n",
            "| Fan  Temp  Perf  Pwr:Usage/Cap|         Memory-Usage | GPU-Util  Compute M. |\n",
            "|===============================+======================+======================|\n",
            "|   0  Tesla P100-PCIE...  Off  | 00000000:00:04.0 Off |                    0 |\n",
            "| N/A   30C    P0    26W / 250W |      0MiB / 16280MiB |      0%      Default |\n",
            "+-------------------------------+----------------------+----------------------+\n",
            "                                                                               \n",
            "+-----------------------------------------------------------------------------+\n",
            "| Processes:                                                       GPU Memory |\n",
            "|  GPU       PID   Type   Process name                             Usage      |\n",
            "|=============================================================================|\n",
            "|  No running processes found                                                 |\n",
            "+-----------------------------------------------------------------------------+\n"
          ],
          "name": "stdout"
        }
      ]
    },
    {
      "cell_type": "markdown",
      "metadata": {
        "collapsed": false,
        "pycharm": {
          "name": "#%% md\n"
        },
        "id": "3mV8Xs3jVdfh",
        "colab_type": "text"
      },
      "source": [
        "# <span id='content'>目录</span>\n",
        "\n",
        "## [一、课前回顾](#一)\n",
        "\n",
        "## [二、卷积神经网络之应用--人脸识别](#二)\n",
        "\n",
        "### [- 1. 人脸识别简介](#二-1)\n",
        "\n",
        "### [- 2. 人脸识别两大问题：人脸认证、人脸识别](#二-2)\n",
        "\n",
        "### [- 3. 进行人脸认证的一种简单思路](#二-3)\n",
        "\n",
        "### [- 4. 使用卷积神经网络进行人脸认证的流程概括](#二-4)\n",
        "\n",
        "## [三、人脸识别流程详细说明](#三)\n",
        "\n",
        "### [- 1. 迁移学习](#三-1)\n",
        "\n",
        "### [- 2. 举例：用VGG16模型进行编码](#三-2)\n",
        "\n",
        "### [- 3. LFW数据库](#三-3)\n",
        "\n",
        "### [- 4. 通过比对两张图片的编码进行人脸认证](#三-4)\n",
        "\n",
        "### [- 5. 阈值的确定](#三-5)\n",
        "\n",
        "### [- 6. 三元组代价函数--一种在人脸识别领域应用广泛且有效的损失函数](#三-6)\n",
        "\n",
        "### [- 7. MTCNN](#三-7)\n",
        "\n",
        "## [四、大作业：班级人脸识别项目](#四)\n"
      ]
    },
    {
      "cell_type": "markdown",
      "metadata": {
        "collapsed": false,
        "id": "-A6xbDL7Vdfi",
        "colab_type": "text"
      },
      "source": [
        "# <span id='一'>一、课前回顾</span>\n",
        "\n",
        "上一课中，我们已经开始用卷积神经网络进行图片分类，已经了解了如下知识点：\n",
        "\n",
        "- convolution：相关概念filter, padding, channel\n",
        "- batch normalization 批规范化：通过对每一层的输出规范为均值和方差一致的方法，消除了w带来的放大缩小的影响。\n",
        "- pooling: max vs. average\n",
        "- 激活函数：softmax, Relu, Sigmoid"
      ]
    },
    {
      "cell_type": "markdown",
      "metadata": {
        "id": "4JxnOErWVdfk",
        "colab_type": "text"
      },
      "source": [
        "# <span id='二'>二、卷积神经网络之应用--人脸识别</span>\n",
        "\n",
        "卷积神经网络最重要的应用之一是人脸识别，这一课我们就用卷积神经网络来处理人脸图片。\n",
        "\n",
        "\n",
        "## <span id='二-1'>1. 人脸识别简介</span>\n",
        "- 定义：\n",
        " - 广义的人脸识别实际包括构建人脸识别系统的一系列相关技术，包括人脸图像采集、人脸定位或检测、人脸识别预处理、身份确认以及身份查找等；\n",
        " - 而狭义的人脸识别特指通过人脸进行身份确认或者身份查找的技术或系统。\n",
        "- 人脸识别的一般处理流程：\n",
        " - 图像获取：人脸图像通过摄像镜头获取得到；\n",
        " - 人脸检测：在图像中标定出人脸的位置和大小，自动估计脸部特征的坐标；\n",
        " - 人脸图像预处理：由于原始图像往往受到光照、角度等条件的限制和干扰，故须在图像处理的早期阶段对其进行灰度矫正、噪声过滤等预处理。\n",
        "   - 常用预处理方法有 ：灰度变化、归一化、直方图均衡、中值滤波等；\n",
        " - 人脸特征提取：可通过嵌入向量的方法提取出有助于人脸分类的特征数据；\n",
        " - 比对识别：两张人脸图片经一系列操作后可进行对比识别；\n",
        " - 输出结果：判断两张人脸图片是否属于同一人。\n",
        " \n",
        "  如下图所示：\n",
        "\n",
        "<img style = \"float:left\" src = \"辅助图片/人脸识别流程.jpg\">"
      ]
    },
    {
      "cell_type": "markdown",
      "metadata": {
        "id": "r7bq719LVdfl",
        "colab_type": "text"
      },
      "source": [
        "## <span id='二-2'>2. 人脸识别两大问题：人脸认证、人脸识别</span>\n",
        "\n",
        "#### (1). 人脸识别：\n",
        "首先拥有多人图像数据库，然后输入一张不在数据库中的人脸图像，目标是判断此人是否在数据库中，是的话并找到对应的那个人。是1：N问题。\n",
        "\n",
        "注：人脸认证和人脸识别也可统称为人脸识别，本课在不混淆意思的前提下会统称为人脸识别。\n",
        "\n",
        "#### (2). 人脸认证：\n",
        "输入人脸图像，并指定数据库中要比对的人，目标是判断两张人脸图像是否属于同一个人，是1：1问题。\n",
        "\n",
        "\n",
        "#### (3). 二者对比：\n",
        "|  |  人脸认证   | 人脸识别  |\n",
        "| :----  |  :----  | :----  |\n",
        "| 输出  | 认证的信心度  | 最相似的人脸以及信心度 |\n",
        "| 实现要求  |    在手机配置上就可以实现得很好  | 对于计算和存储的要求更高 |\n",
        "| 成功要求  | 很低的false positive  | 很低的false positive和false negative |\n",
        "\n",
        "\n",
        "\n",
        "就二者的难度来说，人脸识别要比人脸认证难得多：\n",
        "\n",
        "假设一个认证系统的准确率是99%，把这个认证系统应用到有100个人数据库的人脸识别上，犯错的机会就会乘以100。所以如果有一个上百人的数据库，并且想得到一个可接受的人脸识别误差，首先构造的人脸认证系统就需要99.9%，甚至更高的准确率才行。\n",
        "\n",
        "我们可以考虑首先构造一个人脸认证系统作为基本模块，进行处理之后，再把它应用到人脸识别系统上。\n",
        "\n",
        "\n",
        "## <span id='二-3'>3. 进行人脸认证的一种简单思路</span>\n",
        "对于人脸认证，最简单的思路是：\n",
        "拿到两张人脸图像，直接比较两张图像中所有像素值的差别，取其加和。若该值小于事先确定的阈值，则可以认为他们是同一个人。\n",
        "\n",
        ">思考：这样做会存在什么问题吗？\n",
        "\n",
        "答：比对过程会受到非人脸部分的影响，即色彩、亮度、环境等都会使两张的图像的像素值之差不准确。例如，同一个人的照片加个滤镜可能就认不出来了。同时，同一个人不同角度的图片也会在像素值上有天翻地覆的差别，从而影响结果。\n",
        "\n",
        ">思考：那么能否从图像中剔除这些影响，只找到与人脸外形相关的特征，然后进行比对？\n",
        "\n",
        "答：对于受到非人脸环境的影响问题，可参照人脸识别处理流程中的预处理步骤，对图片进行预处理；而对于同人不同角度等问题造成的识别精度不够这种情况，则提醒我们要寻求一个更精准识别人脸的方法。\n",
        "\n",
        "也就是本课的主题：运用卷积神经网络识别人脸。\n",
        "\n",
        "## <span id='二-4'>4. 使用卷积神经网络进行人脸认证的流程概括</span>\n",
        "\n",
        "卷积神经网络分别以两张图片作为输入，然后输出这两张图片的编码（即特征向量）。如果你放进同一个人的两张照片，你希望最后输出的两个编码之间的距离很小，如果放进两个长相差别很大的人的照片，就希望距离很大。\n",
        "\n",
        "所以在人脸认证过程中，需要人为确定一个阈值。如果这两张图片的距离小于某个阈值，那么这时就能预测这两张图片是同一个人，如果距离大于阈值，就能预测这是不同的两个人。\n",
        "\n",
        "***\n",
        ">现在让我们开始我们的人脸识别之旅吧！\n",
        "\n",
        "首先导入本课程所需要的库以及运行所需要的各项准备：\n",
        "***"
      ]
    },
    {
      "cell_type": "code",
      "metadata": {
        "pycharm": {
          "is_executing": false,
          "name": "#%%\n"
        },
        "id": "gxJV53oxVdfm",
        "colab_type": "code",
        "colab": {}
      },
      "source": [
        "import os\n",
        "import torchvision.models as models\n",
        "from PIL import Image, ImageDraw\n",
        "import datetime\n",
        "from torch.autograd import Variable\n",
        "import torch\n",
        "import cv2\n",
        "import numpy as np\n",
        "from facenet_pytorch import MTCNN, extract_face\n",
        "import matplotlib.pyplot as plt\n",
        "device = torch.device('cuda:0' if torch.cuda.is_available() else 'cpu')"
      ],
      "execution_count": 0,
      "outputs": []
    },
    {
      "cell_type": "code",
      "metadata": {
        "id": "jIRUR8Cc6yVP",
        "colab_type": "code",
        "outputId": "311aebf5-d464-4942-890c-bb3328e63473",
        "colab": {
          "base_uri": "https://localhost:8080/",
          "height": 323
        }
      },
      "source": [
        "!nvidia-smi"
      ],
      "execution_count": 0,
      "outputs": [
        {
          "output_type": "stream",
          "text": [
            "Wed May 27 09:45:50 2020       \n",
            "+-----------------------------------------------------------------------------+\n",
            "| NVIDIA-SMI 440.82       Driver Version: 418.67       CUDA Version: 10.1     |\n",
            "|-------------------------------+----------------------+----------------------+\n",
            "| GPU  Name        Persistence-M| Bus-Id        Disp.A | Volatile Uncorr. ECC |\n",
            "| Fan  Temp  Perf  Pwr:Usage/Cap|         Memory-Usage | GPU-Util  Compute M. |\n",
            "|===============================+======================+======================|\n",
            "|   0  Tesla K80           Off  | 00000000:00:04.0 Off |                    0 |\n",
            "| N/A   35C    P8    28W / 149W |     11MiB / 11441MiB |      0%      Default |\n",
            "+-------------------------------+----------------------+----------------------+\n",
            "                                                                               \n",
            "+-----------------------------------------------------------------------------+\n",
            "| Processes:                                                       GPU Memory |\n",
            "|  GPU       PID   Type   Process name                             Usage      |\n",
            "|=============================================================================|\n",
            "|  No running processes found                                                 |\n",
            "+-----------------------------------------------------------------------------+\n"
          ],
          "name": "stdout"
        }
      ]
    },
    {
      "cell_type": "markdown",
      "metadata": {
        "id": "iirFkH3xVdft",
        "colab_type": "text"
      },
      "source": [
        "### <span id='三'>三、人脸识别流程详细说明</span>\n",
        "\n",
        ">首先，我们学习如何将人脸图片进行编码。\n",
        "\n",
        "卷积神经网络（CNN）常用来为人脸图片编码。例如，VGG就是这样一个为图像编码的CNN模型，其效果如下图所示：\n",
        "\n",
        "<img src = \"辅助图片/VGG编码.jpg\">\n",
        "\n",
        "\n",
        ">人脸图片的编码完成后，我们会利用编码来完成一系列功能。这是一个迁移学习过程。"
      ]
    },
    {
      "cell_type": "markdown",
      "metadata": {
        "id": "1CE8VuxSVdfu",
        "colab_type": "text"
      },
      "source": [
        "## <span id='三-1'>1. 迁移学习</span>\n",
        ">吴恩达：“迁移学习将会是继监督学习之后的下一个机器学习商业成功的驱动力。”\n",
        "\n",
        "- 出现背景：\n",
        " - 目前的深度学习只有在拥有充足的标注数据时才能达到很好的准确率。\n",
        " - 海量数据下的模型训练需要非常大的算力。普通人：臣妾做不到啊~\n",
        "\n",
        "- 思想：将旧领域的模型应用在新领域上，从而加快并优化模型的学习效率。\n",
        "\n",
        "- 具体做法：利用在大数据集上预先训练好的神经网络来初始化网络（而不是随机初始化），然后根据自己的目标任务需求，可选择通过微调等操作对这个神经网络的结构进行改动，并在自己的数据集上进行进一步的训练。\n",
        "\n",
        "- 核心问题：\n",
        " - 如何合理地寻找不同领域之间的相似性，从而利用相似性，将已有模型应用到新的不同的、但有一定关联的领域中。\n",
        " - 如何对使用的预训练模型进行适用于自己目标任务的改动。\n",
        "\n",
        "- 例如：\n",
        "  在自然语言处理领域中，预训练模型BERT的语义表达效果非常好。输入一句话，BERT可以生成这句话的嵌入向量（即用数字向量的形式来表达这句话），距离相近的向量对应的原句的意思也是相近的。我们在BERT模型的基础上，给这个神经网络再加上一个头部，如加上全连接层来作为分类器，就可以把输入的文本做分类，从而应用到如情感分析等具体任务上。\n",
        "\n",
        "\n",
        "本课我们使用VGG16模型为例，展示一下图片的编码结果。鼓励同学们在进行大作业的编写时，通过查找和对比效果来选择其他效果更好的模型，并可选择结合迁移学习知识，使模型效果更佳。\n",
        "\n",
        "## <span id='三-2'>2. 举例：用VGG16模型进行编码</span>\n",
        "\n",
        "#### 选取两张图片，进行大小调整，使其符合VGG16模型的输入要求"
      ]
    },
    {
      "cell_type": "code",
      "metadata": {
        "pycharm": {
          "is_executing": false,
          "name": "#%%\n"
        },
        "id": "95i-3ds1Vdfv",
        "colab_type": "code",
        "colab": {}
      },
      "source": [
        "# 为了能够读写带中文路径的图片，重新定义cv2的读写函数\n",
        "def cv2_imread(file_path):\n",
        "    cv_img = cv2.imdecode(np.fromfile(file_path, dtype=np.uint8), -1)\n",
        "    return cv_img\n",
        "\n",
        "\n",
        "def cv2_imwrite(path, img):\n",
        "    cv2.imencode('.jpg', img)[1].tofile(path)\n",
        "\n",
        "img1 = cv2_imread(\"李小强.jpg\")\n",
        "new_img1 = cv2.resize(img1, (224, 224))\n",
        "cv2_imwrite(\"preprocessed李小强.jpg\", new_img1)\n",
        "\n",
        "img2 = cv2_imread(\"张小二.jpg\")\n",
        "new_img2 = cv2.resize(img2, (224, 224))\n",
        "cv2_imwrite(\"preprocessed张小二.jpg\", new_img2)"
      ],
      "execution_count": 0,
      "outputs": []
    },
    {
      "cell_type": "markdown",
      "metadata": {
        "id": "0e1te57qVdf2",
        "colab_type": "text"
      },
      "source": [
        "#### 将图片格式修改为可以直接输入模型的张量格式，然后调用训练好的VGG模型，输出图片通过模型前后的格式。"
      ]
    },
    {
      "cell_type": "code",
      "metadata": {
        "pycharm": {
          "name": "#%% \n",
          "is_executing": false
        },
        "id": "SJEY0SZuVdf2",
        "colab_type": "code",
        "outputId": "225511b2-5b51-4f7f-d0af-c02c8751e9fa",
        "colab": {
          "base_uri": "https://localhost:8080/",
          "height": 157,
          "referenced_widgets": [
            "f21ffd83028249e191b24170cc8bca52",
            "da4b3917826443909abe94c5673c1ff5",
            "1cf38dd171e04746846d8e3e3d214375",
            "2b676a53d5a641358f899108b36a77d1",
            "6edab5f7fa9b418da4dece2e02938cae",
            "3ad03e460c244c3eb22a0972f452c69b",
            "15c9b8a553534c62a0b106768dea3174",
            "fc1ba7aa257e47809aa9f9713d33266e"
          ]
        }
      },
      "source": [
        "# 定义函数，将图片转成张量格式\n",
        "def tensor_convert_vgg(img_path):\n",
        "    img = cv2_imread(img_path)\n",
        "    batch = img.reshape(1, 3, 224, 224)\n",
        "    tensor = torch.from_numpy(batch).float().to(device)\n",
        "    return tensor\n",
        "\n",
        "img1_name = \"preprocessed李小强.jpg\"\n",
        "img2_name = \"preprocessed张小二.jpg\"\n",
        "\n",
        "\n",
        "tensor1 = tensor_convert_vgg(\"preprocessed李小强.jpg\")\n",
        "tensor2 = tensor_convert_vgg(\"preprocessed张小二.jpg\")\n",
        "\n",
        "vgg = models.vgg16(pretrained=True).eval().to(device)\n",
        "\n",
        "result1 = vgg(Variable(tensor1))\n",
        "result2 = vgg(Variable(tensor2))\n",
        "\n",
        "print(\"李小强：\\n\", \"  vgg16模型输入大小为: \", list(tensor1.size()),\n",
        "      \"; 输出大小为: \", list(result1.size()))\n",
        "print(\"张小二：\\n\", \"  vgg16模型输入大小为: \", list(tensor2.size()),\n",
        "      \"; 输出大小为: \", list(result2.size()))\n"
      ],
      "execution_count": 0,
      "outputs": [
        {
          "output_type": "stream",
          "text": [
            "Downloading: \"https://download.pytorch.org/models/vgg16-397923af.pth\" to /root/.cache/torch/checkpoints/vgg16-397923af.pth\n"
          ],
          "name": "stderr"
        },
        {
          "output_type": "display_data",
          "data": {
            "application/vnd.jupyter.widget-view+json": {
              "model_id": "f21ffd83028249e191b24170cc8bca52",
              "version_minor": 0,
              "version_major": 2
            },
            "text/plain": [
              "HBox(children=(FloatProgress(value=0.0, max=553433881.0), HTML(value='')))"
            ]
          },
          "metadata": {
            "tags": []
          }
        },
        {
          "output_type": "stream",
          "text": [
            "\n",
            "李小强：\n",
            "   vgg16模型输入大小为:  [1, 3, 224, 224] ; 输出大小为:  [1, 1000]\n",
            "张小二：\n",
            "   vgg16模型输入大小为:  [1, 3, 224, 224] ; 输出大小为:  [1, 1000]\n"
          ],
          "name": "stdout"
        }
      ]
    },
    {
      "cell_type": "markdown",
      "metadata": {
        "id": "RImwNnU8Vdf8",
        "colab_type": "text"
      },
      "source": [
        "若运行结果正确，我们可以看到，通过VGG模型前，两张图像的大小为\\[1, 3, 224, 224]，分别对应\\[样本数, 图像通道数, 图像高度, 图像宽度]。通过VGG模型后，两张图像变成了两个1000维的特征向量。\n",
        "\n",
        "#### (4). 注意事项：\n",
        "同学们在进行实验时，要先明确好自己选择的模型的输入是什么格式，以免出错。"
      ]
    },
    {
      "cell_type": "markdown",
      "metadata": {
        "id": "-tgYAVIoVdf-",
        "colab_type": "text"
      },
      "source": [
        ">上述应用的两张图片都是从LFW数据集中选取的。\n",
        "\n",
        "## <span id='三-3'>3. LFW数据库</span>\n",
        "\n",
        "LFW (Labeled Faces in the Wild)人脸数据库主要用于研究非受限情况下的人脸识别问题。共含有13000多张人脸图像，其主要来源是互联网。每张图像都被标识出对应的人的名字，大约其中的1680人包含两个以上的人脸。\n",
        "\n",
        "LFW数据库可用于测试人脸识别的准确率，该数据库随机选择了6000对人脸组成了人脸辨识图片对，其中3000对属于同一人，3000对属于不同的人。测试过程中，LFW数据库随机给出一对图片，询问测试中的系统这两张图片是不是同一个人，系统给出“是”或“否”的答案。通过6000对人脸测试结果的系统答案与真实答案的比值，可以得到系统的人脸识别准确率。\n",
        "\n",
        "[LFW数据库传送门](http://vis-www.cs.umass.edu/lfw/)\n",
        "***\n",
        ">现在我们的第一步已经完成，即已经将图像编好码了。接下来就是要对比两张图片。\n",
        "\n",
        "## <span id='三-4'>4. 通过比对两张图片的编码进行人脸认证</span>\n",
        "\n",
        "**实际上，对比两张图片就是要对比图片对应的编码向量的距离（如欧几里得距离），如下图所示。**\n",
        "\n",
        "<img src = \"辅助图片/两人距离.jpg\">\n",
        "\n",
        ">进行人脸认证时，要确定两张图片是否是同一张人脸，需要事先确定一个阈值，当两张图片的距离小于阈值时，模型认为图片是同一张人脸；当距离大于阈值时，认为是不同的人脸。那么，阈值该如何确定呢？\n",
        "\n",
        "## <span id='三-5'>5. 阈值的确定</span>\n",
        "加上阈值后，整个人脸识别流程如下图所示：\n",
        "\n",
        "<img style = \"float:left\" src = \"辅助图片/两人距离有阈值.jpg\">\n",
        "\n",
        "对于阈值的确定没有数学上的计算方法，而通常是通过尝试，根据经验选择。在确定阈值的过程中，往往要事先确定好一个范围，并通过不断地在多个图像组上的测试，来缩小这个范围，最终在错误率最低的那个范围中选取一个值作为最终的阈值。\n",
        "\n",
        "***\n",
        "\n",
        "\n",
        "## <span id='三-6'>6. 三元组代价函数--一种在人脸识别领域应用广泛且有效的损失函数</span>\n",
        "\n",
        "我们本课直接使用了VGG16预训练模型做例，但是用户可以根据自己的需求进行模型选择或者在原模型基础上进行改进。比如在训练过程中，我们可以改为在人脸识别领域效果更好的三元组代价函数（Triplet Loss），然后再通过梯度下降来更新网络中的权重。\n",
        "\n",
        "#### (1). 三元组是什么：\n",
        "- 样本组成：三张图片：\n",
        " - 靶目标(Anchor)，简写为 $A$.\n",
        " - 正例(Positive)，简写为 $P$.\n",
        " - 反例(Negative)，简写为 $N$.\n",
        "- 样本要求：靶目标和正例是同一个人，和反例不是同一个人。\n",
        "- 目的：在定义了这些包括$A、P、N$图片的数据集后，用梯度下降最小化代价函数，使得$A$和$P$之间的距离很小，而$A$和$N$之间的距离很大。\n",
        "- 效果：通过改变神经网络中的权重，最终得到一个优秀的特征向量，使得相似的图像在向量空间是相近的，可以借此判断是否是同一个人的人脸。\n",
        "\n",
        "三元组代价函数的效果图如下：\n",
        "\n",
        "<img style = \"float:left\" src = \"辅助图片/三元代价函数效果图.jpg\">"
      ]
    },
    {
      "cell_type": "markdown",
      "metadata": {
        "id": "Bycn2uQ6Vdf_",
        "colab_type": "text"
      },
      "source": [
        "#### (2). 三元组代价函数（Triplet Loss）的推导：\n",
        "设图片A的编码为$f(A)$，图片P的编码是$f(P)$，图片N的编码是$f(N)$，我们希望靶目标A和正例图片P的间距小于靶目标和反例图片N的间距，即：\n",
        "\n",
        "$$\\|f(A)-f(P)\\|^{2} \\leq\\|f(A)-f(N)\\|^{2}$$\n",
        "\n",
        "$$\\|f(A)-f(P)\\|^{2}-\\|f(A)-F(N)\\|^{2} \\leq 0$$\n",
        "\n",
        "但是这样还不够，比如当 $d(A,P)=0.5$, $d(A,N)=0.51$ 的时候，虽然满足了要求，但是二者之间的距离差很小，这样训练得到的结果不能很好地区分相似的图像，因此为了增强算法的鲁棒性，我们引入一个超参数 $\\alpha$，将上述不等式修改为：\n",
        "\n",
        "$$\\|f(A)-f(P)\\|^{2}-\\|f(A)-f(N)\\|^{2} \\leq-\\alpha$$\n",
        "\n",
        "$$\\|f(A)-f(P)\\|^{2}-\\|f(A)-F(N)\\|^{2}+\\alpha \\leq 0$$\n",
        "\n",
        "超参数 $\\alpha$ 类似于支持向量机中的margin，目的就是要拼命拉近靶目标和正例之间的距离、拉远靶目标和反例之间的距离。\n",
        "\n",
        "同时，$\\alpha$ 值的选取也是一门学问：过小的话会将所有图像映射到极小区域范围内的向量空间，不能很好地区分；过大的话loss值会很难趋近于零，训练时间会无限延长。\n",
        "\n",
        "***\n",
        "综上，三元组代价函数是基于上述三元图片组的，定义为：\n",
        "\n",
        "$$L(A, P, N)=\\max \\left(\\|f(A)-f(P)\\|^{2}-\\|f(A)-f(N)\\|^{2}+\\alpha, 0\\right)$$\n",
        "\n",
        "在代价函数中，取两项中的最大值，我们要尽可能的使 $\\|f(A)-f(P)\\|^{2}-\\|f(A)-f(N)\\|^{2}+\\alpha$ 这一项为0，或者小于0，这样这组三元组得到的代价值就为0；如果前一项大于0，得到的代价值就会大于0.\n",
        "\n",
        "整个网络的代价函数就是训练集中每个三元组代价的总和，若共有M个三元组，则整个网络的三元代价函数为：\n",
        "\n",
        "$$J=\\sum_{i=1}^{M} L\\left(A^{(i)}, P^{(i)}, N^{(i)}\\right)$$"
      ]
    },
    {
      "cell_type": "markdown",
      "metadata": {
        "id": "EwU0DVndVdgA",
        "colab_type": "text"
      },
      "source": [
        "#### (3). 如何选择三元组来构成训练集？\n",
        "\n",
        "你可能觉得，随机选择是最好的方法。但是实际上，这样的话约束条件 $d(A, P)+\\alpha \\leq d(A, N)$ 就会很容易实现。因为随机选择的图片，$A$ 和 $N$ 比 $A$ 和 $P$ 差别很大的概率不算小，这样的话网络并不能从中学习到什么。\n",
        "\n",
        "所以，为了构建一个更有效的数据集，要做的就是尽可能选择难训练的三元组 $A$、 $P$ 和 $N$。 即要想使得所有三元组都满足条件\n",
        "$d(A, P)+a \\leq d(A, N)$ ，应选择最接近的 $d(A, P)$ 和 $d(A, N)$，这样学习算法会竭尽全力使得 $d(A, N)$ 变大，或者使得 $d(A, P)$ \n",
        "变小，这样选择可以增加学习算法的计算效率。\n",
        "\n",
        "\n",
        ">以上代码全是根据数据集中的照片进行操作的，如果提供日常中拍出的照片，进行人脸识别，会出现什么问题呢？\n",
        "\n",
        "## <span id='三-7'>7. MTCNN</span>\n",
        "\n",
        "我们知道，数据集中的照片都是经过加工之后的，是专门用来训练或者测试模型的。但是日常拍照并非如此，普通照片中，人的身体和周围环境往往被照进镜头从而导致人脸识别误差增大。\n",
        "\n",
        "此时，我们需要进行一系列操作，使得机器能够自动截取照片上的人脸，然后再送去编码识别。\n",
        "\n",
        "**MTCNN就是干这个的。**\n",
        "\n",
        "MTCNN（多任务卷积神经网络）中的\"MT\"是指多任务学习(Multi-Task)，同时学习“识别人脸”、“人脸边框回归”、“人脸关键点识别”；\"CNN\"是指卷积神经网络(Convolutional Neural Network)。MTCNN是由中国科学院提出的用于人脸检测任务的多任务神经网络模型，可进行快速高效的人脸检测。\n",
        "\n",
        "我们来尝试使用MTCNN，看看它的作用效果。"
      ]
    },
    {
      "cell_type": "code",
      "metadata": {
        "pycharm": {
          "name": "#%%\n",
          "is_executing": false
        },
        "id": "lxqon6I4VdgB",
        "colab_type": "code",
        "colab": {}
      },
      "source": [
        "mtcnn = MTCNN(keep_all=True)\n",
        "img = Image.open(\"test1.jpg\")\n",
        "boxes, probs, points = mtcnn.detect(img, landmarks=True)\n",
        "img_draw = img.copy()\n",
        "draw = ImageDraw.Draw(img_draw)\n",
        "for i, (box, point) in enumerate(zip(boxes, points)):\n",
        "    draw.rectangle(box.tolist(), width=5)\n",
        "    for p in point:\n",
        "        draw.rectangle((p-10).tolist()+(p+10).tolist(), width=10)\n",
        "    extract_face(img, box, save_path='detect_face_{}.png'.format(i))\n",
        "img_draw.save('annotated_faces.png')"
      ],
      "execution_count": 0,
      "outputs": []
    },
    {
      "cell_type": "markdown",
      "metadata": {
        "collapsed": false,
        "pycharm": {
          "name": "#%% md\n"
        },
        "id": "4G04ufvTVdgH",
        "colab_type": "text"
      },
      "source": [
        "上面这个代码块使用同级目录下的名为\"test1.jpg\"的图片作为输入，将经过MTCNN人脸关键点标注后的结果进行可视化之后命名为\"annotated_face.png\"，保存在同级目录下，将MTCNN的截取结果命名为\"detect_face_0.png\"，保存在同级目录下。下面进行这三张图片的展示。"
      ]
    },
    {
      "cell_type": "code",
      "metadata": {
        "pycharm": {
          "name": "#%%\n",
          "is_executing": false
        },
        "id": "PdLQr_arVdgJ",
        "colab_type": "code",
        "outputId": "0eb308f9-62d1-41a5-c3da-660afe89796c",
        "colab": {
          "base_uri": "https://localhost:8080/",
          "height": 249
        }
      },
      "source": [
        "plt.figure()\n",
        "plt.subplots_adjust(left=0.125, bottom=0.1, right=1.4, top=0.9,\n",
        "                wspace=0.2, hspace=0.2)\n",
        "img = Image.open(\"test1.jpg\")\n",
        "ax = plt.subplot(1,3,1)\n",
        "plt.imshow(img)\n",
        "ax.set_title(\"Original Figure\")\n",
        "\n",
        "img = Image.open(\"annotated_faces.png\")\n",
        "ax = plt.subplot(1,3,2)\n",
        "plt.imshow(img)\n",
        "ax.set_title(\"Annotated By MTCNN\")\n",
        "\n",
        "img = Image.open(\"detect_face_0.png\")\n",
        "ax = plt.subplot(1,3,3)\n",
        "plt.imshow(img)\n",
        "ax.set_title(\"Cut By MTCNN\")\n",
        "\n",
        "plt.show()"
      ],
      "execution_count": 0,
      "outputs": [
        {
          "output_type": "display_data",
          "data": {
            "image/png": "[encoded data removed]",
            "text/plain": [
              "<Figure size 432x288 with 3 Axes>"
            ]
          },
          "metadata": {
            "tags": [],
            "needs_background": "light"
          }
        }
      ]
    },
    {
      "cell_type": "markdown",
      "metadata": {
        "collapsed": false,
        "pycharm": {
          "name": "#%% md\n"
        },
        "id": "xRSH-3wBVdgQ",
        "colab_type": "text"
      },
      "source": [
        "由上图我们可以看到，MTCNN可以识别一张图片中的人脸位置所在，同时定位到人脸关键点，包括眼、鼻、嘴。所以使用通过MTCNN截取后的人脸图片，我们可以使人脸识别不再受照片中环境等因素的影响，使得识别精度更高。\n",
        "\n",
        "有感兴趣的同学可以去[这里](https://blog.csdn.net/qq_36782182/article/details/83624357?depth_1-utm_source=distribute.pc_relevant.none-task-blog-BlogCommendFromBaidu-1&utm_source=distribute.pc_relevant.none-task-blog-BlogCommendFromBaidu-1)看一下MTCNN的具体架构和工作原理，此处不再多讲。\n",
        "\n",
        ">现在我们已经基本掌握了人脸识别和认所需的模型运用等知识，下面来进行大作业的编写吧！\n",
        "\n",
        "### <span id='四'>四、大作业：班级人脸识别项目</span>\n",
        "\n",
        "满足条件及注意事项：\n",
        "- 将所给人脸照片文件夹作为班级人脸数据库，其中每人有五张图片。\n",
        "- test文件下存储的是用来识别或认证的不属于数据库中的照片，每人有一张图片。\n",
        "- 将人脸识别的代码封装成一个函数，命名为facial_recognition，其输入是当前测试图片的路径，且函数要返回最相似的人的名字。\n",
        "- 将人脸认证的代码封装成一个函数，命名为facial_verification，其输入是数据库中想要比对的人脸id和当前的测试图片的路径，且函数要根据认证的结果，即返回字符串“True”或字符串“False”。\n",
        "- 定义人名列表，列表中每个元素是人名字符串（即类似于[\"张三\", \"李四\"]），列表名为names，评测中用到的id值即为在names列表中的序号（从0开始）。\n",
        "- 最终考核结果标准是识别的准确率和时间，以及认证的四项标准。"
      ]
    },
    {
      "cell_type": "code",
      "metadata": {
        "id": "Gbrgc7wDYUsX",
        "colab_type": "code",
        "outputId": "94794553-ff8d-4ce5-8015-216e8dcf30ec",
        "colab": {
          "base_uri": "https://localhost:8080/",
          "height": 89
        }
      },
      "source": [
        "!ls"
      ],
      "execution_count": 0,
      "outputs": [
        {
          "output_type": "stream",
          "text": [
            "61518407_李浩瑞.ipynb  detect_face_0.png    preprocessed张小二.jpg  张小二.jpg\n",
            "annotated_faces.png    face.evoLVe.PyTorch  preprocessed李小强.jpg  李小强.jpg\n",
            "checkpoint\t       facenet_pytorch\t    test1.jpg\t\t    辅助图片\n",
            "data\t\t       log\t\t    Untitled0.ipynb\n"
          ],
          "name": "stdout"
        }
      ]
    },
    {
      "cell_type": "code",
      "metadata": {
        "id": "mj4NCX7C9Q3_",
        "colab_type": "code",
        "colab": {}
      },
      "source": [
        "os.chdir('../')"
      ],
      "execution_count": 0,
      "outputs": []
    },
    {
      "cell_type": "code",
      "metadata": {
        "id": "m0O0mxuauS8n",
        "colab_type": "code",
        "colab": {}
      },
      "source": [
        ""
      ],
      "execution_count": 0,
      "outputs": []
    },
    {
      "cell_type": "code",
      "metadata": {
        "id": "o9c_aewE9aZd",
        "colab_type": "code",
        "outputId": "ce93be6d-42b5-4d0c-e027-72137c494888",
        "colab": {
          "base_uri": "https://localhost:8080/",
          "height": 89
        }
      },
      "source": [
        "!ls"
      ],
      "execution_count": 7,
      "outputs": [
        {
          "output_type": "stream",
          "text": [
            "61518407_李浩瑞.ipynb  detect_face_0.png    preprocessed张小二.jpg  张小二.jpg\n",
            "annotated_faces.png    face.evoLVe.PyTorch  preprocessed李小强.jpg  李小强.jpg\n",
            "checkpoint\t       facenet_pytorch\t    test1.jpg\t\t    辅助图片\n",
            "data\t\t       log\t\t    Untitled0.ipynb\n"
          ],
          "name": "stdout"
        }
      ]
    },
    {
      "cell_type": "code",
      "metadata": {
        "id": "qiUa4dBTsZNr",
        "colab_type": "code",
        "colab": {}
      },
      "source": [
        "def replaceDirName(rootDir):#修改rootDir路径下的文件夹名\n",
        "    num = 0\n",
        "    dirs = os.listdir(rootDir)\n",
        "    for dir in dirs:\n",
        "        print('oldname is:' + dir)                # 输出老的名字\n",
        "        num = num +1\n",
        "        try:\n",
        "          temp = dir.split('_')[1]\n",
        "        except IndexError:\n",
        "          try:\n",
        "            temp=dir.split('-')[1]\n",
        "          except:\n",
        "            print(\"This is not structure\", dir)\n",
        "            continue\n",
        "        except:\n",
        "          print(\"This is not structure\", dir)\n",
        "          continue\n",
        "        print('new name:',temp)\n",
        "        oldname = os.path.join(rootDir, dir)      # 老文件夹的名字\n",
        "        newname = os.path.join(rootDir, temp)     # 新文件夹的名字\n",
        "        os.rename(oldname, newname)        #替换\n",
        "replaceDirName('align_data')"
      ],
      "execution_count": 0,
      "outputs": []
    },
    {
      "cell_type": "code",
      "metadata": {
        "id": "Qu3rXipIX-PG",
        "colab_type": "code",
        "outputId": "21265efd-7cfd-4dc4-bc40-b1b39510e489",
        "colab": {
          "base_uri": "https://localhost:8080/",
          "height": 109
        }
      },
      "source": [
        "###############Modify data##############\n",
        "#################################START OF YOUR HOMEWORK#################################\n",
        "\n",
        "names=[]\n",
        "ab_path=\"数据库图片\"\n",
        "img_path = \"data\"\n",
        "k=0\n",
        "for item in os.listdir(ab_path):\n",
        "    names.append(item)\n",
        "    try:\n",
        "      os.makedirs(img_path+\"/\"+str(item))\n",
        "    except FileExistsError:\n",
        "      continue\n",
        "    k=k+1\n",
        "    for i in os.listdir(ab_path+'/'+str(item)):\n",
        "        mtcnn = MTCNN(keep_all=True)\n",
        "        try:\n",
        "            img = Image.open(ab_path+'/'+str(item)+'/'+i).convert('RGB')\n",
        "            boxes, probs, points = mtcnn.detect(img, landmarks=True)\n",
        "            img_draw = img.copy()\n",
        "            draw = ImageDraw.Draw(img_draw)\n",
        "            for j, (box, point) in enumerate(zip(boxes, points)): \n",
        "                draw.rectangle(box.tolist(), width=5)\n",
        "                for p in point:\n",
        "                    draw.rectangle((p-10).tolist()+(p+10).tolist(), width=10)\n",
        "                extract_face(img, box, save_path=img_path+'/'+str(item)+'/'+i.format(0).split('_')[-1])\n",
        "        except:\n",
        "            img=Image.open(ab_path+'/'+str(item)+'/'+i).convert('RGB')\n",
        "            print(img_path+'/'+str(item))\n",
        "            img.save(img_path+'/'+str(item)+'/'+i.split('_')[-1])\n",
        "        # print(i)\n",
        "    print(names)\n",
        "#################################END OF YOUR HOMEWORK#################################"
      ],
      "execution_count": 0,
      "outputs": [
        {
          "output_type": "stream",
          "text": [
            "data/09118203_张雨\n",
            "data/09118203_张雨\n",
            "['09118223_吴亦珂', '09118209_祁丁然', '09118226_李辰浩', '09118237_徐逸飞', '09118238_林欣', '09118208_唐伟', '09118229_张博宇', '09118236_廖滔', '09118211_黄华程', '09118228_沈飞鸿', '09118224_祁畅', '09118239_赵琦', '09118212_陈耿', '09118221_邹家馨', '09118205_王昕彤', '09118210_边浩文', '09118235_王立远', '09118227_张文杰', '09118220王行健', '09118213_孙诚', '09118216李孟泽', '09118215_薛翔天', '09118233_孔译轮', '09118207_朱斌', '09118234_王士一', '09118206_陶特', '09118218_陈耀龙', '09118230鲁瀚洋', '09118225_李璟宸', '09118219_王一名', '09118222_沈毅', '09118232_尹鑫龙', '09118231_陈文丽', '61518110_徐昱玮', '61518218_沈书杨', '61518229_游家伟', '61518315_方大政', '61518207_张政', '61518210_吉中旭', '61518309_羊宇培', '09118241_陈嘉源', '61518219_张欣然', '61518217_高奕辰', '61518122_丁自民', '09118245_陈品多', '61518314_周圣阳', '61518126_杜宇涵', '09118244_尹行健', '09118242_张骥', '09118240_王明扬', '61518125_黄腾', '09118243_卢甲浩', '61518431_郁航远', '61518319_司翀杰', '61518424_王贵涛', '61518407_李浩瑞', '61518422_石知一', '61518421_栾岱洋', '61518426_周之遥', '61518420_姚杳', '61518428_张淼森', '09118101_高捷', '09118103_王倩', '09118106_戴恒洁', '09118107_徐子轩', '09118108_朱佳涛', '09118109_曾家俊', '09118110_白劭宸', '09118111_李浩天', '09118112_张硕', '09118113_曹思辰', '09118114_周吾君', '09118115_佘瑾南', '09118116_李春澍', '09118117_卢正轩', '09118118_庄祎', '09118119_黄一凡', '09118120_徐浩卿', '09118121_闻浩', '09118122_邵一展', '09118124_李翔宇', '09118125_盛憬昊', '09118126_丁自超', '09118127_胡艺凡', '09118129_陈翼张', '09118130_武逸仙', '09118131_唐云龙', '09118132_陈震寰', '09118133_罗琦晴', '09118134_张立创', '09118135_王屹之', '09118136_高成睿', '09118138_朱浩鹏', '09118139_王明灏', '09118140_王靖婷', '09118142_蒋林煊', '09118143_何洋龙', '09118144-杜熙源', '09118145_邵彤', '09118147_岳元浩', '09118201_刘漪琛', '09118202_赵基藤', '09118203_张雨']\n",
            "['09118223_吴亦珂', '09118209_祁丁然', '09118226_李辰浩', '09118237_徐逸飞', '09118238_林欣', '09118208_唐伟', '09118229_张博宇', '09118236_廖滔', '09118211_黄华程', '09118228_沈飞鸿', '09118224_祁畅', '09118239_赵琦', '09118212_陈耿', '09118221_邹家馨', '09118205_王昕彤', '09118210_边浩文', '09118235_王立远', '09118227_张文杰', '09118220王行健', '09118213_孙诚', '09118216李孟泽', '09118215_薛翔天', '09118233_孔译轮', '09118207_朱斌', '09118234_王士一', '09118206_陶特', '09118218_陈耀龙', '09118230鲁瀚洋', '09118225_李璟宸', '09118219_王一名', '09118222_沈毅', '09118232_尹鑫龙', '09118231_陈文丽', '61518110_徐昱玮', '61518218_沈书杨', '61518229_游家伟', '61518315_方大政', '61518207_张政', '61518210_吉中旭', '61518309_羊宇培', '09118241_陈嘉源', '61518219_张欣然', '61518217_高奕辰', '61518122_丁自民', '09118245_陈品多', '61518314_周圣阳', '61518126_杜宇涵', '09118244_尹行健', '09118242_张骥', '09118240_王明扬', '61518125_黄腾', '09118243_卢甲浩', '61518431_郁航远', '61518319_司翀杰', '61518424_王贵涛', '61518407_李浩瑞', '61518422_石知一', '61518421_栾岱洋', '61518426_周之遥', '61518420_姚杳', '61518428_张淼森', '09118101_高捷', '09118103_王倩', '09118106_戴恒洁', '09118107_徐子轩', '09118108_朱佳涛', '09118109_曾家俊', '09118110_白劭宸', '09118111_李浩天', '09118112_张硕', '09118113_曹思辰', '09118114_周吾君', '09118115_佘瑾南', '09118116_李春澍', '09118117_卢正轩', '09118118_庄祎', '09118119_黄一凡', '09118120_徐浩卿', '09118121_闻浩', '09118122_邵一展', '09118124_李翔宇', '09118125_盛憬昊', '09118126_丁自超', '09118127_胡艺凡', '09118129_陈翼张', '09118130_武逸仙', '09118131_唐云龙', '09118132_陈震寰', '09118133_罗琦晴', '09118134_张立创', '09118135_王屹之', '09118136_高成睿', '09118138_朱浩鹏', '09118139_王明灏', '09118140_王靖婷', '09118142_蒋林煊', '09118143_何洋龙', '09118144-杜熙源', '09118145_邵彤', '09118147_岳元浩', '09118201_刘漪琛', '09118202_赵基藤', '09118203_张雨', '09118204_钟倩如']\n"
          ],
          "name": "stdout"
        }
      ]
    },
    {
      "cell_type": "code",
      "metadata": {
        "id": "oreQXx0S0uLf",
        "colab_type": "code",
        "outputId": "a0bea4b4-33e1-41ab-fab4-776a75eefecd",
        "colab": {
          "base_uri": "https://localhost:8080/",
          "height": 35
        }
      },
      "source": [
        "print(len(names))"
      ],
      "execution_count": 0,
      "outputs": [
        {
          "output_type": "stream",
          "text": [
            "104\n"
          ],
          "name": "stdout"
        }
      ]
    },
    {
      "cell_type": "code",
      "metadata": {
        "id": "1rU8cwVUQ44K",
        "colab_type": "code",
        "colab": {}
      },
      "source": [
        "###########裁剪为统一大小（160*160）############\n",
        "img_paths= \"align_data\"\n",
        "for item in os.listdir(img_path):\n",
        "    os.makedirs(img_paths+\"/\"+str(item))\n",
        "    for i in os.listdir(img_path+'/'+str(item)):\n",
        "        img = cv2_imread(img_path+'/'+str(item)+'/'+i)\n",
        "        new_img = cv2.resize(img, (160, 160))\n",
        "        cv2_imwrite(img_paths+'/'+str(item)+'/'+i, new_img)\n"
      ],
      "execution_count": 0,
      "outputs": []
    },
    {
      "cell_type": "code",
      "metadata": {
        "id": "cXqvDrQRPKrM",
        "colab_type": "code",
        "colab": {}
      },
      "source": [
        "import numpy as np\n",
        "import torchvision\n",
        "from torchvision import datasets, transforms, models\n",
        "import matplotlib.pyplot as plt\n",
        "import time\n",
        "import os\n",
        "import copy"
      ],
      "execution_count": 0,
      "outputs": []
    },
    {
      "cell_type": "code",
      "metadata": {
        "id": "YGhdCIn3Z9XM",
        "colab_type": "code",
        "colab": {}
      },
      "source": [
        "use_gpu = torch.cuda.is_available()\n",
        "##初始化\n",
        "if use_gpu:\n",
        "    epochs = 10  # 训练次数\n",
        "else:\n",
        "    epochs = 4\n",
        "batch_size = 4  # 批处理大小\n",
        "num_workers = 4  # 多线程的数目"
      ],
      "execution_count": 0,
      "outputs": []
    },
    {
      "cell_type": "code",
      "metadata": {
        "id": "K5y6jHGCNq65",
        "colab_type": "code",
        "outputId": "eb139f2c-6435-4b68-b54a-2734529073d3",
        "colab": {
          "base_uri": "https://localhost:8080/",
          "height": 1000
        }
      },
      "source": [
        "#均一化\n",
        "# 对加载的图像作归一化处理， 并裁剪为[160x160x3]大小的图像\n",
        "data_transforms = {\n",
        "    'align_data': transforms.Compose([\n",
        "        transforms.Resize(160),\n",
        "        transforms.CenterCrop(160),\n",
        "        transforms.RandomRotation(5,resample = False,expand =False,center = None,fill = None ),#随机旋转\n",
        "        transforms.RandomHorizontalFlip(),#随机颠倒\n",
        "        transforms.ToTensor(),\n",
        "        transforms.Normalize([0.485, 0.456, 0.406], [0.229, 0.224, 0.225])\n",
        "    ]),\n",
        "    'align_test': transforms.Compose([\n",
        "        transforms.Resize(160),\n",
        "        transforms.CenterCrop(160),\n",
        "        transforms.ToTensor(),\n",
        "        transforms.Normalize([0.485, 0.456, 0.406], [0.229, 0.224, 0.225])\n",
        "    ]),\n",
        "\n",
        "}\n",
        "\n",
        "data_dir = ''\n",
        "image_datasets = {x: datasets.ImageFolder(os.path.join(data_dir, x),\n",
        "                                          data_transforms[x])\n",
        "                  for x in ['align_data','align_test']}\n",
        "dataloaders = {x: torch.utils.data.DataLoader(image_datasets[x],\n",
        "                                              batch_size=8, \n",
        "                                             shuffle=True)\n",
        "              for x in ['align_data','align_test']}\n",
        "dataset_sizes = {x: len(image_datasets[x]) for x in ['align_data','align_test']}\n",
        "class_names = image_datasets['align_data'].classes\n",
        "class_names"
      ],
      "execution_count": 32,
      "outputs": [
        {
          "output_type": "execute_result",
          "data": {
            "text/plain": [
              "['丁自民',\n",
              " '丁自超',\n",
              " '何洋龙',\n",
              " '佘瑾南',\n",
              " '刘漪琛',\n",
              " '卢正轩',\n",
              " '卢甲浩',\n",
              " '司翀杰',\n",
              " '吉中旭',\n",
              " '吴亦珂',\n",
              " '周之遥',\n",
              " '周吾君',\n",
              " '周圣阳',\n",
              " '唐云龙',\n",
              " '唐伟',\n",
              " '姚杳',\n",
              " '孔译轮',\n",
              " '孙诚',\n",
              " '尹行健',\n",
              " '尹鑫龙',\n",
              " '岳元浩',\n",
              " '庄祎',\n",
              " '廖滔',\n",
              " '张博宇',\n",
              " '张政',\n",
              " '张文杰',\n",
              " '张欣然',\n",
              " '张淼森',\n",
              " '张硕',\n",
              " '张立创',\n",
              " '张雨',\n",
              " '张骥',\n",
              " '徐子轩',\n",
              " '徐昱玮',\n",
              " '徐浩卿',\n",
              " '徐逸飞',\n",
              " '戴恒洁',\n",
              " '方大政',\n",
              " '曹思辰',\n",
              " '曾家俊',\n",
              " '朱佳涛',\n",
              " '朱斌',\n",
              " '朱浩鹏',\n",
              " '李孟泽',\n",
              " '李春澍',\n",
              " '李浩天',\n",
              " '李浩瑞',\n",
              " '李璟宸',\n",
              " '李翔宇',\n",
              " '李辰浩',\n",
              " '杜宇涵',\n",
              " '杜熙源',\n",
              " '林欣',\n",
              " '栾岱洋',\n",
              " '武逸仙',\n",
              " '沈书杨',\n",
              " '沈毅',\n",
              " '沈飞鸿',\n",
              " '游家伟',\n",
              " '王一名',\n",
              " '王倩',\n",
              " '王士一',\n",
              " '王屹之',\n",
              " '王明扬',\n",
              " '王明灏',\n",
              " '王昕彤',\n",
              " '王立远',\n",
              " '王行健',\n",
              " '王贵涛',\n",
              " '王靖婷',\n",
              " '白劭宸',\n",
              " '盛憬昊',\n",
              " '石知一',\n",
              " '祁丁然',\n",
              " '祁畅',\n",
              " '罗琦晴',\n",
              " '羊宇培',\n",
              " '胡艺凡',\n",
              " '蒋林煊',\n",
              " '薛翔天',\n",
              " '赵基藤',\n",
              " '赵琦',\n",
              " '边浩文',\n",
              " '邵一展',\n",
              " '邵彤',\n",
              " '邹家馨',\n",
              " '郁航远',\n",
              " '钟倩如',\n",
              " '闻浩',\n",
              " '陈品多',\n",
              " '陈嘉源',\n",
              " '陈文丽',\n",
              " '陈翼张',\n",
              " '陈耀龙',\n",
              " '陈耿',\n",
              " '陈震寰',\n",
              " '陶特',\n",
              " '高奕辰',\n",
              " '高成睿',\n",
              " '高捷',\n",
              " '鲁瀚洋',\n",
              " '黄一凡',\n",
              " '黄华程',\n",
              " '黄腾']"
            ]
          },
          "metadata": {
            "tags": []
          },
          "execution_count": 32
        }
      ]
    },
    {
      "cell_type": "markdown",
      "metadata": {
        "id": "ki7fQloVEHRk",
        "colab_type": "text"
      },
      "source": [
        "https://towardsdatascience.com/finetune-a-facial-recognition-classifier-to-recognize-your-face-using-pytorch-d00a639d9a79"
      ]
    },
    {
      "cell_type": "code",
      "metadata": {
        "id": "epYODMKTzDWs",
        "colab_type": "code",
        "outputId": "a640b0a2-b59a-41b2-b344-4431c230101d",
        "colab": {
          "base_uri": "https://localhost:8080/",
          "height": 55
        }
      },
      "source": [
        "from torch import nn, optim, as_tensor\n",
        "from torch.utils.data import Dataset, DataLoader\n",
        "import torch.nn.functional as F\n",
        "from torch.optim import lr_scheduler\n",
        "from torch.nn.init import *\n",
        "from torchvision import transforms, utils, datasets, models\n",
        "from facenet_pytorch import MTCNN, InceptionResnetV1, fixed_image_standardization, training\n",
        "import cv2\n",
        "from PIL import Image\n",
        "from pdb import set_trace\n",
        "import time\n",
        "import copy\n",
        "from pathlib import Path\n",
        "import os\n",
        "import sys\n",
        "import matplotlib.pyplot as plt\n",
        "import matplotlib.animation as animation\n",
        "from skimage import io, transform\n",
        "from tqdm import trange, tqdm\n",
        "import csv\n",
        "import glob\n",
        "import dlib\n",
        "import pandas as pd\n",
        "import numpy as np\n",
        "def imshow(inp, title=None):\n",
        "    \"\"\"Imshow for Tensor.\"\"\"\n",
        "    inp = inp.numpy().transpose((1, 2, 0))\n",
        "    mean = np.array([0.485, 0.456, 0.406])\n",
        "    std = np.array([0.229, 0.224, 0.225])\n",
        "    inp = std * inp + mean\n",
        "    inp = np.clip(inp, 0, 1)\n",
        "    plt.imshow(inp)\n",
        "    if title is not None:\n",
        "        plt.title(title)\n",
        "    plt.pause(0.001)  # pause a bit so that plots are updated\n",
        "# Get a batch of training data\n",
        "inputs, classes = next(iter(dataloaders['align_data']))\n",
        "# Make a grid from batch\n",
        "out = utils.make_grid(inputs)\n",
        "#plt.rcParams[\"font.family\"]=\"STSong\"\n",
        "#imshow(out, title=[class_names[x] for x in classes])\n",
        "print(class_names)"
      ],
      "execution_count": 33,
      "outputs": [
        {
          "output_type": "stream",
          "text": [
            "['丁自民', '丁自超', '何洋龙', '佘瑾南', '刘漪琛', '卢正轩', '卢甲浩', '司翀杰', '吉中旭', '吴亦珂', '周之遥', '周吾君', '周圣阳', '唐云龙', '唐伟', '姚杳', '孔译轮', '孙诚', '尹行健', '尹鑫龙', '岳元浩', '庄祎', '廖滔', '张博宇', '张政', '张文杰', '张欣然', '张淼森', '张硕', '张立创', '张雨', '张骥', '徐子轩', '徐昱玮', '徐浩卿', '徐逸飞', '戴恒洁', '方大政', '曹思辰', '曾家俊', '朱佳涛', '朱斌', '朱浩鹏', '李孟泽', '李春澍', '李浩天', '李浩瑞', '李璟宸', '李翔宇', '李辰浩', '杜宇涵', '杜熙源', '林欣', '栾岱洋', '武逸仙', '沈书杨', '沈毅', '沈飞鸿', '游家伟', '王一名', '王倩', '王士一', '王屹之', '王明扬', '王明灏', '王昕彤', '王立远', '王行健', '王贵涛', '王靖婷', '白劭宸', '盛憬昊', '石知一', '祁丁然', '祁畅', '罗琦晴', '羊宇培', '胡艺凡', '蒋林煊', '薛翔天', '赵基藤', '赵琦', '边浩文', '邵一展', '邵彤', '邹家馨', '郁航远', '钟倩如', '闻浩', '陈品多', '陈嘉源', '陈文丽', '陈翼张', '陈耀龙', '陈耿', '陈震寰', '陶特', '高奕辰', '高成睿', '高捷', '鲁瀚洋', '黄一凡', '黄华程', '黄腾']\n"
          ],
          "name": "stdout"
        }
      ]
    },
    {
      "cell_type": "code",
      "metadata": {
        "id": "XAbDlY4qzV2H",
        "colab_type": "code",
        "outputId": "11e9e600-cd4c-40cc-d6f5-3a60ff383376",
        "colab": {
          "base_uri": "https://localhost:8080/",
          "height": 35
        }
      },
      "source": [
        "print('Running on device: {}'.format(device))\n",
        "model_ft = InceptionResnetV1(pretrained='vggface2', classify=False, num_classes = len(class_names))"
      ],
      "execution_count": 34,
      "outputs": [
        {
          "output_type": "stream",
          "text": [
            "Running on device: cuda:0\n"
          ],
          "name": "stdout"
        }
      ]
    },
    {
      "cell_type": "code",
      "metadata": {
        "id": "_cVJBN4NYyMi",
        "colab_type": "code",
        "colab": {
          "base_uri": "https://localhost:8080/",
          "height": 557
        },
        "outputId": "bc8cdf7a-299d-4c21-e3e6-c538e7dea619"
      },
      "source": [
        "list(model_ft.children())[-6:]"
      ],
      "execution_count": 35,
      "outputs": [
        {
          "output_type": "execute_result",
          "data": {
            "text/plain": [
              "[Block8(\n",
              "   (branch0): BasicConv2d(\n",
              "     (conv): Conv2d(1792, 192, kernel_size=(1, 1), stride=(1, 1), bias=False)\n",
              "     (bn): BatchNorm2d(192, eps=0.001, momentum=0.1, affine=True, track_running_stats=True)\n",
              "     (relu): ReLU()\n",
              "   )\n",
              "   (branch1): Sequential(\n",
              "     (0): BasicConv2d(\n",
              "       (conv): Conv2d(1792, 192, kernel_size=(1, 1), stride=(1, 1), bias=False)\n",
              "       (bn): BatchNorm2d(192, eps=0.001, momentum=0.1, affine=True, track_running_stats=True)\n",
              "       (relu): ReLU()\n",
              "     )\n",
              "     (1): BasicConv2d(\n",
              "       (conv): Conv2d(192, 192, kernel_size=(1, 3), stride=(1, 1), padding=(0, 1), bias=False)\n",
              "       (bn): BatchNorm2d(192, eps=0.001, momentum=0.1, affine=True, track_running_stats=True)\n",
              "       (relu): ReLU()\n",
              "     )\n",
              "     (2): BasicConv2d(\n",
              "       (conv): Conv2d(192, 192, kernel_size=(3, 1), stride=(1, 1), padding=(1, 0), bias=False)\n",
              "       (bn): BatchNorm2d(192, eps=0.001, momentum=0.1, affine=True, track_running_stats=True)\n",
              "       (relu): ReLU()\n",
              "     )\n",
              "   )\n",
              "   (conv2d): Conv2d(384, 1792, kernel_size=(1, 1), stride=(1, 1))\n",
              " ),\n",
              " AdaptiveAvgPool2d(output_size=1),\n",
              " Dropout(p=0.6, inplace=False),\n",
              " Linear(in_features=1792, out_features=512, bias=False),\n",
              " BatchNorm1d(512, eps=0.001, momentum=0.1, affine=True, track_running_stats=True),\n",
              " Linear(in_features=512, out_features=104, bias=True)]"
            ]
          },
          "metadata": {
            "tags": []
          },
          "execution_count": 35
        }
      ]
    },
    {
      "cell_type": "code",
      "metadata": {
        "id": "WKrRlKiiYyIz",
        "colab_type": "code",
        "colab": {
          "base_uri": "https://localhost:8080/",
          "height": 107
        },
        "outputId": "fb27b395-daa7-4fde-ffc2-0c26279eab1e"
      },
      "source": [
        "layer_list = list(model_ft.children())[-5:] # all final layers\n",
        "layer_list"
      ],
      "execution_count": 36,
      "outputs": [
        {
          "output_type": "execute_result",
          "data": {
            "text/plain": [
              "[AdaptiveAvgPool2d(output_size=1),\n",
              " Dropout(p=0.6, inplace=False),\n",
              " Linear(in_features=1792, out_features=512, bias=False),\n",
              " BatchNorm1d(512, eps=0.001, momentum=0.1, affine=True, track_running_stats=True),\n",
              " Linear(in_features=512, out_features=104, bias=True)]"
            ]
          },
          "metadata": {
            "tags": []
          },
          "execution_count": 36
        }
      ]
    },
    {
      "cell_type": "code",
      "metadata": {
        "id": "8yKqJQDFYyB_",
        "colab_type": "code",
        "colab": {}
      },
      "source": [
        "model_ft = nn.Sequential(*list(model_ft.children())[:-5])"
      ],
      "execution_count": 0,
      "outputs": []
    },
    {
      "cell_type": "code",
      "metadata": {
        "id": "Ui7ayXV8Yx2l",
        "colab_type": "code",
        "colab": {}
      },
      "source": [
        "for param in model_ft.parameters():\n",
        "    param.requires_grad = False"
      ],
      "execution_count": 0,
      "outputs": []
    },
    {
      "cell_type": "code",
      "metadata": {
        "id": "hCZ_Wv08an-z",
        "colab_type": "code",
        "colab": {}
      },
      "source": [
        "class Flatten(nn.Module):\n",
        "    def __init__(self):\n",
        "        super(Flatten, self).__init__()\n",
        "        \n",
        "    def forward(self, x):\n",
        "        x = x.view(x.size(0), -1)\n",
        "        return x\n",
        "class normalize(nn.Module):\n",
        "    def __init__(self):\n",
        "        super(normalize, self).__init__()\n",
        "        \n",
        "    def forward(self, x):\n",
        "        x = F.normalize(x, p=2, dim=1)\n",
        "        return x"
      ],
      "execution_count": 0,
      "outputs": []
    },
    {
      "cell_type": "code",
      "metadata": {
        "id": "mckKY6YQan2N",
        "colab_type": "code",
        "colab": {}
      },
      "source": [
        "model_ft.avgpool_1a = nn.AdaptiveAvgPool2d(output_size=1)\n",
        "model_ft.last_linear = nn.Sequential(\n",
        "    Flatten(),\n",
        "    nn.Linear(in_features=1792, out_features=512, bias=False),\n",
        "    normalize()\n",
        ")\n",
        "model_ft.logits = nn.Linear(layer_list[4].in_features, len(class_names))\n",
        "model_ft.softmax = nn.Softmax(dim=1)\n",
        "model_ft = model_ft.to(device)\n",
        "criterion = nn.CrossEntropyLoss()\n",
        "# Observe that all parameters are being optimized\n",
        "optimizer_ft = optim.SGD(model_ft.parameters(), lr=1e-2, momentum=0.9)\n",
        "# Decay LR by a factor of *gamma* every *step_size* epochs\n",
        "exp_lr_scheduler = lr_scheduler.StepLR(optimizer_ft, step_size=7, gamma=0.1)"
      ],
      "execution_count": 0,
      "outputs": []
    },
    {
      "cell_type": "code",
      "metadata": {
        "id": "VCSn-VKoa1dk",
        "colab_type": "code",
        "colab": {}
      },
      "source": [
        "def train_model(model, criterion, optimizer, scheduler,\n",
        "                num_epochs=25):\n",
        "    since = time.time()\n",
        "    FT_losses = []\n",
        "    best_model_wts = copy.deepcopy(model.state_dict())\n",
        "    best_acc = 0.0\n",
        "    for epoch in range(num_epochs):\n",
        "        print('Epoch {}/{}'.format(epoch, num_epochs - 1))\n",
        "        print('-' * 10)\n",
        "    # Each epoch has a training and validation phase\n",
        "        for phase in ['align_data', 'align_test']:\n",
        "            if phase == 'align_data':\n",
        "                model.train()  # Set model to training mode\n",
        "            else:\n",
        "                model.eval()   # Set model to evaluate mode\n",
        "            running_loss = 0.0\n",
        "            running_corrects = 0\n",
        "            # Iterate over data.\n",
        "            for inputs, labels in dataloaders[phase]:\n",
        "                inputs = inputs.to(device)\n",
        "                labels = labels.to(device)\n",
        "                # zero the parameter gradients\n",
        "                optimizer.zero_grad()\n",
        "                # forward\n",
        "                # track history if only in train\n",
        "                with torch.set_grad_enabled(phase == 'align_data'):\n",
        "                    outputs = model(inputs)\n",
        "                    _, preds = torch.max(outputs, 1)\n",
        "                    loss = criterion(outputs, labels)\n",
        "                    # backward + optimize only if in training phase\n",
        "                    if phase == 'align_data':\n",
        "                        loss.backward()\n",
        "                        optimizer.step()\n",
        "                        scheduler.step()\n",
        "                FT_losses.append(loss.item())\n",
        "                # statistics\n",
        "                running_loss += loss.item() * inputs.size(0)\n",
        "                running_corrects += torch.sum(preds == labels.data)\n",
        "            epoch_loss = (running_loss/dataset_sizes[phase])\n",
        "            epoch_acc = (running_corrects.double()/dataset_sizes[phase])\n",
        "            print('{} Loss: {:.4f} Acc: {:.4f}'.format(\n",
        "                phase, epoch_loss, epoch_acc))\n",
        "            # deep copy the model\n",
        "            if phase == 'align_test' and epoch_acc > best_acc:\n",
        "                best_acc = epoch_acc\n",
        "                best_model_wts = copy.deepcopy(model.state_dict())\n",
        "    time_elapsed = time.time() - since\n",
        "    print('Training complete in {:.0f}m {:.0f}s'.format(\n",
        "        time_elapsed // 60, time_elapsed % 60))\n",
        "    print('Best val Acc: {:4f}'.format(best_acc))\n",
        "    # load best model weights\n",
        "    model.load_state_dict(best_model_wts)\n",
        "    return model, FT_losses"
      ],
      "execution_count": 0,
      "outputs": []
    },
    {
      "cell_type": "code",
      "metadata": {
        "id": "VGWAv17Oj3hi",
        "colab_type": "code",
        "colab": {}
      },
      "source": [
        ""
      ],
      "execution_count": 0,
      "outputs": []
    },
    {
      "cell_type": "markdown",
      "metadata": {
        "id": "K1vfiN-Janua",
        "colab_type": "text"
      },
      "source": [
        "model_ft, FT_losses = train_model(model_ft, criterion, optimizer_ft, exp_lr_scheduler, num_epochs=300)\n",
        "plt.figure(figsize=(10,5))\n",
        "plt.title(\"FRT Loss During Training\")\n",
        "plt.plot(FT_losses, label=\"FT loss\")\n",
        "plt.xlabel(\"iterations\")\n",
        "plt.ylabel(\"Loss\")\n",
        "plt.legend()\n",
        "plt.show()"
      ]
    },
    {
      "cell_type": "markdown",
      "metadata": {
        "id": "2CkXNg8e3yKz",
        "colab_type": "text"
      },
      "source": [
        "By Github\n",
        "https://github.com/timesler/facenet-pytorch/blob/master/examples/finetune.ipynb"
      ]
    },
    {
      "cell_type": "code",
      "metadata": {
        "id": "HRiWRhpT326N",
        "colab_type": "code",
        "colab": {}
      },
      "source": [
        "resnet = InceptionResnetV1(\n",
        "    classify=True,\n",
        "    pretrained='vggface2',\n",
        "    num_classes=len(class_names)\n",
        ").to(device)"
      ],
      "execution_count": 0,
      "outputs": []
    },
    {
      "cell_type": "code",
      "metadata": {
        "id": "uM_D301c4rP8",
        "colab_type": "code",
        "colab": {}
      },
      "source": [
        "from torch.utils.data import DataLoader, SubsetRandomSampler\n",
        "from torch import optim\n",
        "from torch.optim.lr_scheduler import MultiStepLR\n",
        "from torch.utils.tensorboard import SummaryWriter"
      ],
      "execution_count": 0,
      "outputs": []
    },
    {
      "cell_type": "code",
      "metadata": {
        "id": "zExtMM7X33ai",
        "colab_type": "code",
        "colab": {}
      },
      "source": [
        "optimizer = optim.Adam(resnet.parameters(), lr=0.001)\n",
        "scheduler = MultiStepLR(optimizer, [5, 10])"
      ],
      "execution_count": 0,
      "outputs": []
    },
    {
      "cell_type": "code",
      "metadata": {
        "id": "qf0ahUUP33Xf",
        "colab_type": "code",
        "colab": {}
      },
      "source": [
        "loss_fn = torch.nn.CrossEntropyLoss()\n",
        "metrics = {\n",
        "    'fps': training.BatchTimer(),\n",
        "    'acc': training.accuracy\n",
        "}"
      ],
      "execution_count": 0,
      "outputs": []
    },
    {
      "cell_type": "code",
      "metadata": {
        "id": "pwNEoB3H5Gn2",
        "colab_type": "code",
        "colab": {
          "base_uri": "https://localhost:8080/",
          "height": 315
        },
        "outputId": "58c9aad2-2df2-4825-94db-d665519a2679"
      },
      "source": [
        "\n",
        "writer = SummaryWriter()\n",
        "writer.iteration, writer.interval = 0, 10\n",
        "\n",
        "print('\\n\\nInitial')\n",
        "print('-' * 10)\n",
        "resnet.eval()\n",
        "training.pass_epoch(\n",
        "    resnet, loss_fn, val_loader,\n",
        "    batch_metrics=metrics, show_running=True, device=device,\n",
        "    writer=writer\n",
        ")\n",
        "\n",
        "for epoch in range(epochs):\n",
        "    print('\\nEpoch {}/{}'.format(epoch + 1, epochs))\n",
        "    print('-' * 10)\n",
        "\n",
        "    resnet.train()\n",
        "    training.pass_epoch(\n",
        "        resnet, loss_fn, train_loader, optimizer, scheduler,\n",
        "        batch_metrics=metrics, show_running=True, device=device,\n",
        "        writer=writer\n",
        "    )\n",
        "\n",
        "    resnet.eval()\n",
        "    training.pass_epoch(\n",
        "        resnet, loss_fn, val_loader,\n",
        "        batch_metrics=metrics, show_running=True, device=device,\n",
        "        writer=writer\n",
        "    )\n",
        "\n",
        "writer.close()"
      ],
      "execution_count": 41,
      "outputs": [
        {
          "output_type": "stream",
          "text": [
            "\n",
            "\n",
            "Initial\n",
            "----------\n"
          ],
          "name": "stdout"
        },
        {
          "output_type": "error",
          "ename": "NameError",
          "evalue": "ignored",
          "traceback": [
            "\u001b[0;31m---------------------------------------------------------------------------\u001b[0m",
            "\u001b[0;31mNameError\u001b[0m                                 Traceback (most recent call last)",
            "\u001b[0;32m<ipython-input-41-7cf59efcfcd7>\u001b[0m in \u001b[0;36m<module>\u001b[0;34m()\u001b[0m\n\u001b[1;32m      7\u001b[0m \u001b[0mresnet\u001b[0m\u001b[0;34m.\u001b[0m\u001b[0meval\u001b[0m\u001b[0;34m(\u001b[0m\u001b[0;34m)\u001b[0m\u001b[0;34m\u001b[0m\u001b[0;34m\u001b[0m\u001b[0m\n\u001b[1;32m      8\u001b[0m training.pass_epoch(\n\u001b[0;32m----> 9\u001b[0;31m     \u001b[0mresnet\u001b[0m\u001b[0;34m,\u001b[0m \u001b[0mloss_fn\u001b[0m\u001b[0;34m,\u001b[0m \u001b[0mval_loader\u001b[0m\u001b[0;34m,\u001b[0m\u001b[0;34m\u001b[0m\u001b[0;34m\u001b[0m\u001b[0m\n\u001b[0m\u001b[1;32m     10\u001b[0m     \u001b[0mbatch_metrics\u001b[0m\u001b[0;34m=\u001b[0m\u001b[0mmetrics\u001b[0m\u001b[0;34m,\u001b[0m \u001b[0mshow_running\u001b[0m\u001b[0;34m=\u001b[0m\u001b[0;32mTrue\u001b[0m\u001b[0;34m,\u001b[0m \u001b[0mdevice\u001b[0m\u001b[0;34m=\u001b[0m\u001b[0mdevice\u001b[0m\u001b[0;34m,\u001b[0m\u001b[0;34m\u001b[0m\u001b[0;34m\u001b[0m\u001b[0m\n\u001b[1;32m     11\u001b[0m     \u001b[0mwriter\u001b[0m\u001b[0;34m=\u001b[0m\u001b[0mwriter\u001b[0m\u001b[0;34m\u001b[0m\u001b[0;34m\u001b[0m\u001b[0m\n",
            "\u001b[0;31mNameError\u001b[0m: name 'val_loader' is not defined"
          ]
        }
      ]
    },
    {
      "cell_type": "code",
      "metadata": {
        "id": "hTEWNNWv5Gjr",
        "colab_type": "code",
        "colab": {}
      },
      "source": [
        ""
      ],
      "execution_count": 0,
      "outputs": []
    },
    {
      "cell_type": "code",
      "metadata": {
        "id": "6PaSJTgs33LB",
        "colab_type": "code",
        "colab": {}
      },
      "source": [
        ""
      ],
      "execution_count": 0,
      "outputs": []
    },
    {
      "cell_type": "markdown",
      "metadata": {
        "id": "jaQHfREX5Ht-",
        "colab_type": "text"
      },
      "source": [
        "End of Github"
      ]
    },
    {
      "cell_type": "code",
      "metadata": {
        "id": "36cgTAdMzFBO",
        "colab_type": "code",
        "outputId": "e20feaba-950f-45ca-9ffb-d636bcef0746",
        "colab": {
          "base_uri": "https://localhost:8080/",
          "height": 557
        }
      },
      "source": [
        "list(model_ft.children())[-6:]"
      ],
      "execution_count": 0,
      "outputs": [
        {
          "output_type": "execute_result",
          "data": {
            "text/plain": [
              "[Block8(\n",
              "   (branch0): BasicConv2d(\n",
              "     (conv): Conv2d(1792, 192, kernel_size=(1, 1), stride=(1, 1), bias=False)\n",
              "     (bn): BatchNorm2d(192, eps=0.001, momentum=0.1, affine=True, track_running_stats=True)\n",
              "     (relu): ReLU()\n",
              "   )\n",
              "   (branch1): Sequential(\n",
              "     (0): BasicConv2d(\n",
              "       (conv): Conv2d(1792, 192, kernel_size=(1, 1), stride=(1, 1), bias=False)\n",
              "       (bn): BatchNorm2d(192, eps=0.001, momentum=0.1, affine=True, track_running_stats=True)\n",
              "       (relu): ReLU()\n",
              "     )\n",
              "     (1): BasicConv2d(\n",
              "       (conv): Conv2d(192, 192, kernel_size=(1, 3), stride=(1, 1), padding=(0, 1), bias=False)\n",
              "       (bn): BatchNorm2d(192, eps=0.001, momentum=0.1, affine=True, track_running_stats=True)\n",
              "       (relu): ReLU()\n",
              "     )\n",
              "     (2): BasicConv2d(\n",
              "       (conv): Conv2d(192, 192, kernel_size=(3, 1), stride=(1, 1), padding=(1, 0), bias=False)\n",
              "       (bn): BatchNorm2d(192, eps=0.001, momentum=0.1, affine=True, track_running_stats=True)\n",
              "       (relu): ReLU()\n",
              "     )\n",
              "   )\n",
              "   (conv2d): Conv2d(384, 1792, kernel_size=(1, 1), stride=(1, 1))\n",
              " ),\n",
              " AdaptiveAvgPool2d(output_size=1),\n",
              " Dropout(p=0.6, inplace=False),\n",
              " Linear(in_features=1792, out_features=512, bias=False),\n",
              " BatchNorm1d(512, eps=0.001, momentum=0.1, affine=True, track_running_stats=True),\n",
              " Linear(in_features=512, out_features=104, bias=True)]"
            ]
          },
          "metadata": {
            "tags": []
          },
          "execution_count": 56
        }
      ]
    },
    {
      "cell_type": "code",
      "metadata": {
        "id": "m_saPiUb3X9j",
        "colab_type": "code",
        "outputId": "1bf9fb29-9bc4-446a-866e-537423a9b791",
        "colab": {
          "base_uri": "https://localhost:8080/",
          "height": 107
        }
      },
      "source": [
        "layer_list = list(model_ft.children())[-5:] # all final layers\n",
        "layer_list"
      ],
      "execution_count": 44,
      "outputs": [
        {
          "output_type": "execute_result",
          "data": {
            "text/plain": [
              "[AdaptiveAvgPool2d(output_size=1),\n",
              " Dropout(p=0.6, inplace=False),\n",
              " Linear(in_features=1792, out_features=512, bias=False),\n",
              " BatchNorm1d(512, eps=0.001, momentum=0.1, affine=True, track_running_stats=True),\n",
              " Linear(in_features=512, out_features=104, bias=True)]"
            ]
          },
          "metadata": {
            "tags": []
          },
          "execution_count": 44
        }
      ]
    },
    {
      "cell_type": "code",
      "metadata": {
        "id": "oGDzjgVT3X1a",
        "colab_type": "code",
        "colab": {}
      },
      "source": [
        "model_ft = nn.Sequential(*list(model_ft.children())[:-5])"
      ],
      "execution_count": 0,
      "outputs": []
    },
    {
      "cell_type": "code",
      "metadata": {
        "id": "zpcfj7On3jRj",
        "colab_type": "code",
        "colab": {}
      },
      "source": [
        "for param in model_ft.parameters():\n",
        "    param.requires_grad = False"
      ],
      "execution_count": 0,
      "outputs": []
    },
    {
      "cell_type": "code",
      "metadata": {
        "id": "Cd6PR5y43xRA",
        "colab_type": "code",
        "colab": {}
      },
      "source": [
        "class Flatten(nn.Module):\n",
        "    def __init__(self):\n",
        "        super(Flatten, self).__init__()\n",
        "        \n",
        "    def forward(self, x):\n",
        "        x = x.view(x.size(0), -1)\n",
        "        return x\n",
        "class normalize(nn.Module):\n",
        "    def __init__(self):\n",
        "        super(normalize, self).__init__()\n",
        "        \n",
        "    def forward(self, x):\n",
        "        x = F.normalize(x, p=2, dim=1)\n",
        "        return x"
      ],
      "execution_count": 0,
      "outputs": []
    },
    {
      "cell_type": "code",
      "metadata": {
        "id": "xOcDWj7N8Lo8",
        "colab_type": "code",
        "colab": {
          "base_uri": "https://localhost:8080/",
          "height": 369
        },
        "outputId": "765e28c3-6e9b-452f-e245-5d8fcda39852"
      },
      "source": [
        "model_ft.avgpool_1a = nn.AdaptiveAvgPool2d(output_size=1)\n",
        "model_ft.last_linear = nn.Sequential(\n",
        "    Flatten(),\n",
        "    nn.Linear(in_features=1792, out_features=512, bias=False),\n",
        "    normalize()\n",
        ")\n",
        "model_ft.logits = nn.Linear(layer_list[3].in_features, len(class_names))\n",
        "model_ft.softmax = nn.Softmax(dim=1)\n",
        "model_ft = model_ft.to(device)\n",
        "criterion = nn.CrossEntropyLoss()\n",
        "# Observe that all parameters are being optimized\n",
        "optimizer_ft = optim.SGD(model_ft.parameters(), lr=1e-2, momentum=0.9)\n",
        "# Decay LR by a factor of *gamma* every *step_size* epochs\n",
        "exp_lr_scheduler = lr_scheduler.StepLR(optimizer_ft, step_size=7, gamma=0.1)"
      ],
      "execution_count": 49,
      "outputs": [
        {
          "output_type": "error",
          "ename": "AttributeError",
          "evalue": "ignored",
          "traceback": [
            "\u001b[0;31m---------------------------------------------------------------------------\u001b[0m",
            "\u001b[0;31mAttributeError\u001b[0m                            Traceback (most recent call last)",
            "\u001b[0;32m<ipython-input-49-42e22ed33219>\u001b[0m in \u001b[0;36m<module>\u001b[0;34m()\u001b[0m\n\u001b[1;32m      5\u001b[0m     \u001b[0mnormalize\u001b[0m\u001b[0;34m(\u001b[0m\u001b[0;34m)\u001b[0m\u001b[0;34m\u001b[0m\u001b[0;34m\u001b[0m\u001b[0m\n\u001b[1;32m      6\u001b[0m )\n\u001b[0;32m----> 7\u001b[0;31m \u001b[0mmodel_ft\u001b[0m\u001b[0;34m.\u001b[0m\u001b[0mlogits\u001b[0m \u001b[0;34m=\u001b[0m \u001b[0mnn\u001b[0m\u001b[0;34m.\u001b[0m\u001b[0mLinear\u001b[0m\u001b[0;34m(\u001b[0m\u001b[0mlayer_list\u001b[0m\u001b[0;34m[\u001b[0m\u001b[0;36m3\u001b[0m\u001b[0;34m]\u001b[0m\u001b[0;34m.\u001b[0m\u001b[0min_features\u001b[0m\u001b[0;34m,\u001b[0m \u001b[0mlen\u001b[0m\u001b[0;34m(\u001b[0m\u001b[0mclass_names\u001b[0m\u001b[0;34m)\u001b[0m\u001b[0;34m)\u001b[0m\u001b[0;34m\u001b[0m\u001b[0;34m\u001b[0m\u001b[0m\n\u001b[0m\u001b[1;32m      8\u001b[0m \u001b[0mmodel_ft\u001b[0m\u001b[0;34m.\u001b[0m\u001b[0msoftmax\u001b[0m \u001b[0;34m=\u001b[0m \u001b[0mnn\u001b[0m\u001b[0;34m.\u001b[0m\u001b[0mSoftmax\u001b[0m\u001b[0;34m(\u001b[0m\u001b[0mdim\u001b[0m\u001b[0;34m=\u001b[0m\u001b[0;36m1\u001b[0m\u001b[0;34m)\u001b[0m\u001b[0;34m\u001b[0m\u001b[0;34m\u001b[0m\u001b[0m\n\u001b[1;32m      9\u001b[0m \u001b[0mmodel_ft\u001b[0m \u001b[0;34m=\u001b[0m \u001b[0mmodel_ft\u001b[0m\u001b[0;34m.\u001b[0m\u001b[0mto\u001b[0m\u001b[0;34m(\u001b[0m\u001b[0mdevice\u001b[0m\u001b[0;34m)\u001b[0m\u001b[0;34m\u001b[0m\u001b[0;34m\u001b[0m\u001b[0m\n",
            "\u001b[0;32m/usr/local/lib/python3.6/dist-packages/torch/nn/modules/module.py\u001b[0m in \u001b[0;36m__getattr__\u001b[0;34m(self, name)\u001b[0m\n\u001b[1;32m    592\u001b[0m                 \u001b[0;32mreturn\u001b[0m \u001b[0mmodules\u001b[0m\u001b[0;34m[\u001b[0m\u001b[0mname\u001b[0m\u001b[0;34m]\u001b[0m\u001b[0;34m\u001b[0m\u001b[0;34m\u001b[0m\u001b[0m\n\u001b[1;32m    593\u001b[0m         raise AttributeError(\"'{}' object has no attribute '{}'\".format(\n\u001b[0;32m--> 594\u001b[0;31m             type(self).__name__, name))\n\u001b[0m\u001b[1;32m    595\u001b[0m \u001b[0;34m\u001b[0m\u001b[0m\n\u001b[1;32m    596\u001b[0m     \u001b[0;32mdef\u001b[0m \u001b[0m__setattr__\u001b[0m\u001b[0;34m(\u001b[0m\u001b[0mself\u001b[0m\u001b[0;34m,\u001b[0m \u001b[0mname\u001b[0m\u001b[0;34m,\u001b[0m \u001b[0mvalue\u001b[0m\u001b[0;34m)\u001b[0m\u001b[0;34m:\u001b[0m\u001b[0;34m\u001b[0m\u001b[0;34m\u001b[0m\u001b[0m\n",
            "\u001b[0;31mAttributeError\u001b[0m: 'BatchNorm1d' object has no attribute 'in_features'"
          ]
        }
      ]
    },
    {
      "cell_type": "markdown",
      "metadata": {
        "id": "BGx8FJ-599H3",
        "colab_type": "text"
      },
      "source": [
        "# 完全按照Github来"
      ]
    },
    {
      "cell_type": "code",
      "metadata": {
        "id": "OENmE3AB_59F",
        "colab_type": "code",
        "colab": {}
      },
      "source": [
        "batch_size = 32\n",
        "epochs = 8\n",
        "workers = 0 if os.name == 'nt' else 8"
      ],
      "execution_count": 0,
      "outputs": []
    },
    {
      "cell_type": "code",
      "metadata": {
        "id": "UuyrfeoE8LlZ",
        "colab_type": "code",
        "colab": {}
      },
      "source": [
        "from facenet_pytorch import MTCNN, InceptionResnetV1, fixed_image_standardization, training\n",
        "import torch\n",
        "from torch.utils.data import DataLoader, SubsetRandomSampler\n",
        "from torch import optim\n",
        "from torch.optim.lr_scheduler import MultiStepLR\n",
        "from torch.utils.tensorboard import SummaryWriter\n",
        "from torchvision import datasets, transforms\n",
        "import numpy as np\n",
        "import os\n",
        "\n",
        "device = torch.device('cuda:0' if torch.cuda.is_available() else 'cpu')\n",
        "\n",
        "resnet = InceptionResnetV1(\n",
        "    classify=True,\n",
        "    pretrained='vggface2',\n",
        "    num_classes=104\n",
        ").to(device)\n",
        "\n",
        "optimizer = optim.Adam(resnet.parameters(), lr=0.001)\n",
        "scheduler = MultiStepLR(optimizer, [5, 10])\n",
        "\n",
        "data_dir='align_data'\n",
        "'''\n",
        "trans = transforms.Compose([\n",
        "    np.float32,\n",
        "    transforms.ToTensor(),\n",
        "    fixed_image_standardization\n",
        "])\n",
        "'''\n",
        "data_transforms = {\n",
        "    'align_data': transforms.Compose([\n",
        "        transforms.Resize(160),\n",
        "        transforms.CenterCrop(160),\n",
        "        transforms.RandomRotation(5,resample = False,expand =False,center = None,fill = None ),#随机旋转\n",
        "        transforms.RandomHorizontalFlip(),#随机颠倒\n",
        "        transforms.ToTensor(),\n",
        "        transforms.Normalize([0.485, 0.456, 0.406], [0.229, 0.224, 0.225])\n",
        "    ]),\n",
        "    'align_test': transforms.Compose([\n",
        "        transforms.Resize(160),\n",
        "        transforms.CenterCrop(160),\n",
        "        transforms.ToTensor(),\n",
        "        transforms.Normalize([0.485, 0.456, 0.406], [0.229, 0.224, 0.225])\n",
        "    ]),\n",
        "\n",
        "}\n",
        "\n",
        "dataset = datasets.ImageFolder(data_dir, transform=data_transforms['align_data'])\n",
        "img_inds = np.arange(len(dataset))\n",
        "np.random.shuffle(img_inds)\n",
        "train_inds = img_inds[:]\n",
        "val_inds = img_inds[int(0.8 * len(img_inds)):]\n",
        "\n",
        "train_loader = DataLoader(\n",
        "    dataset,\n",
        "    num_workers=workers,\n",
        "    batch_size=batch_size,\n",
        "    sampler=SubsetRandomSampler(train_inds)\n",
        ")\n",
        "val_loader = DataLoader(\n",
        "    dataset,\n",
        "    num_workers=workers,\n",
        "    batch_size=batch_size,\n",
        "    sampler=SubsetRandomSampler(val_inds)\n",
        ")"
      ],
      "execution_count": 0,
      "outputs": []
    },
    {
      "cell_type": "code",
      "metadata": {
        "id": "zNyMvPuV8Lh0",
        "colab_type": "code",
        "colab": {}
      },
      "source": [
        "loss_fn = torch.nn.CrossEntropyLoss()\n",
        "metrics = {\n",
        "    'fps': training.BatchTimer(),\n",
        "    'acc': training.accuracy\n",
        "}"
      ],
      "execution_count": 0,
      "outputs": []
    },
    {
      "cell_type": "code",
      "metadata": {
        "id": "ZU54EPOI8LZs",
        "colab_type": "code",
        "colab": {
          "base_uri": "https://localhost:8080/",
          "height": 1000
        },
        "outputId": "48f5d30f-d45f-4c05-830c-85ed1c7e4b2d"
      },
      "source": [
        "writer = SummaryWriter()\n",
        "writer.iteration, writer.interval = 0, 10\n",
        "\n",
        "print('\\n\\nInitial')\n",
        "print('-' * 10)\n",
        "resnet.eval()\n",
        "training.pass_epoch(\n",
        "    resnet, loss_fn, val_loader,\n",
        "    batch_metrics=metrics, show_running=True, device=device,\n",
        "    writer=writer\n",
        ")\n",
        "epochs=30\n",
        "for epoch in range(epochs):\n",
        "    print('\\nEpoch {}/{}'.format(epoch + 1, epochs))\n",
        "    print('-' * 10)\n",
        "\n",
        "    resnet.train()\n",
        "    training.pass_epoch(\n",
        "        resnet, loss_fn, train_loader, optimizer, scheduler,\n",
        "        batch_metrics=metrics, show_running=True, device=device,\n",
        "        writer=writer\n",
        "    )\n",
        "\n",
        "    resnet.eval()\n",
        "    training.pass_epoch(\n",
        "        resnet, loss_fn, val_loader,\n",
        "        batch_metrics=metrics, show_running=True, device=device,\n",
        "        writer=writer\n",
        "    )\n",
        "\n",
        "writer.close()"
      ],
      "execution_count": 89,
      "outputs": [
        {
          "output_type": "stream",
          "text": [
            "\n",
            "\n",
            "Initial\n",
            "----------\n",
            "Valid |     4/4    | loss:    4.6443 | fps:  495.7672 | acc:    0.0078   \n",
            "\n",
            "Epoch 1/30\n",
            "----------\n",
            "Train |    17/17   | loss:    4.5975 | fps:  210.5283 | acc:    0.0809   \n",
            "Valid |     4/4    | loss:    4.5380 | fps:  523.0676 | acc:    0.1094   \n",
            "\n",
            "Epoch 2/30\n",
            "----------\n",
            "Train |    17/17   | loss:    4.4623 | fps:  212.1488 | acc:    0.2731   \n",
            "Valid |     4/4    | loss:    4.4044 | fps:  525.2057 | acc:    0.3828   \n",
            "\n",
            "Epoch 3/30\n",
            "----------\n",
            "Train |    17/17   | loss:    4.3325 | fps:  208.0060 | acc:    0.4296   \n",
            "Valid |     4/4    | loss:    4.2519 | fps:  526.0121 | acc:    0.5391   \n",
            "\n",
            "Epoch 4/30\n",
            "----------\n",
            "Train |    17/17   | loss:    4.2176 | fps:  224.5040 | acc:    0.5572   \n",
            "Valid |     4/4    | loss:    4.1695 | fps:  522.4690 | acc:    0.5391   \n",
            "\n",
            "Epoch 5/30\n",
            "----------\n",
            "Train |    17/17   | loss:    4.0956 | fps:  211.6728 | acc:    0.6623   \n",
            "Valid |     4/4    | loss:    4.0097 | fps:  517.8270 | acc:    0.7031   \n",
            "\n",
            "Epoch 6/30\n",
            "----------\n",
            "Train |    17/17   | loss:    3.9930 | fps:  227.1966 | acc:    0.7728   \n",
            "Valid |     4/4    | loss:    3.9292 | fps:  510.1678 | acc:    0.8750   \n",
            "\n",
            "Epoch 7/30\n",
            "----------\n",
            "Train |    17/17   | loss:    3.9610 | fps:  213.0589 | acc:    0.8086   \n",
            "Valid |     4/4    | loss:    3.9139 | fps:  523.9160 | acc:    0.8438   \n",
            "\n",
            "Epoch 8/30\n",
            "----------\n",
            "Train |    17/17   | loss:    3.9386 | fps:  205.7046 | acc:    0.8445   \n",
            "Valid |     4/4    | loss:    3.8823 | fps:  544.6492 | acc:    0.8672   \n",
            "\n",
            "Epoch 9/30\n",
            "----------\n",
            "Train |    17/17   | loss:    3.9170 | fps:  225.3995 | acc:    0.8398   \n",
            "Valid |     4/4    | loss:    3.8742 | fps:  538.8997 | acc:    0.9141   \n",
            "\n",
            "Epoch 10/30\n",
            "----------\n",
            "Train |    17/17   | loss:    3.8970 | fps:  225.0839 | acc:    0.8629   \n",
            "Valid |     4/4    | loss:    3.8473 | fps:  519.5237 | acc:    0.8906   \n",
            "\n",
            "Epoch 11/30\n",
            "----------\n",
            "Train |    17/17   | loss:    3.8874 | fps:  212.9606 | acc:    0.8745   \n",
            "Valid |     4/4    | loss:    3.8433 | fps:  495.4713 | acc:    0.9453   \n",
            "\n",
            "Epoch 12/30\n",
            "----------\n",
            "Train |    17/17   | loss:    3.8821 | fps:  220.2773 | acc:    0.8876   \n",
            "Valid |     4/4    | loss:    3.8438 | fps:  539.7581 | acc:    0.9453   \n",
            "\n",
            "Epoch 13/30\n",
            "----------\n",
            "Train |    17/17   | loss:    3.8844 | fps:  214.2205 | acc:    0.8582   \n",
            "Valid |     4/4    | loss:    3.8307 | fps:  521.7462 | acc:    0.9453   \n",
            "\n",
            "Epoch 14/30\n",
            "----------\n",
            "Train |    17/17   | loss:    3.8837 | fps:  196.3490 | acc:    0.9070   \n",
            "Valid |     4/4    | loss:    3.8485 | fps:  523.6851 | acc:    0.8984   \n",
            "\n",
            "Epoch 15/30\n",
            "----------\n",
            "Train |    17/17   | loss:    3.8849 | fps:  207.5990 | acc:    0.8931   \n",
            "Valid |     4/4    | loss:    3.8371 | fps:  542.7297 | acc:    0.9297   \n",
            "\n",
            "Epoch 16/30\n",
            "----------\n",
            "Train |    17/17   | loss:    3.8752 | fps:  208.5560 | acc:    0.9052   \n",
            "Valid |     4/4    | loss:    3.8280 | fps:  510.6508 | acc:    0.9531   \n",
            "\n",
            "Epoch 17/30\n",
            "----------\n",
            "Train |    17/17   | loss:    3.8702 | fps:  209.1443 | acc:    0.9210   \n",
            "Valid |     4/4    | loss:    3.8332 | fps:  534.7756 | acc:    0.9453   \n",
            "\n",
            "Epoch 18/30\n",
            "----------\n",
            "Train |    17/17   | loss:    3.8794 | fps:  218.6378 | acc:    0.8894   \n",
            "Valid |     4/4    | loss:    3.8262 | fps:  529.3378 | acc:    0.9453   \n",
            "\n",
            "Epoch 19/30\n",
            "----------\n",
            "Train |    17/17   | loss:    3.8751 | fps:  209.7662 | acc:    0.8931   \n",
            "Valid |     4/4    | loss:    3.8302 | fps:  539.6481 | acc:    0.9062   \n",
            "\n",
            "Epoch 20/30\n",
            "----------\n",
            "Train |    17/17   | loss:    3.8725 | fps:  209.8996 | acc:    0.9107   \n",
            "Valid |     4/4    | loss:    3.8291 | fps:  531.6815 | acc:    0.9531   \n",
            "\n",
            "Epoch 21/30\n",
            "----------\n",
            "Train |    17/17   | loss:    3.8701 | fps:  213.5659 | acc:    0.9320   \n",
            "Valid |     4/4    | loss:    3.8124 | fps:  531.1707 | acc:    0.9453   \n",
            "\n",
            "Epoch 22/30\n",
            "----------\n",
            "Train |    17/17   | loss:    3.8663 | fps:  204.5686 | acc:    0.9041   \n",
            "Valid |     4/4    | loss:    3.8311 | fps:  528.1664 | acc:    0.8750   \n",
            "\n",
            "Epoch 23/30\n",
            "----------\n",
            "Train |    17/17   | loss:    3.8607 | fps:  212.8136 | acc:    0.9154   \n",
            "Valid |     4/4    | loss:    3.8225 | fps:  527.3791 | acc:    0.9453   \n",
            "\n",
            "Epoch 24/30\n",
            "----------\n",
            "Train |    17/17   | loss:    3.8617 | fps:  222.2738 | acc:    0.9162   \n",
            "Valid |     4/4    | loss:    3.8125 | fps:  530.0665 | acc:    0.9531   \n",
            "\n",
            "Epoch 25/30\n",
            "----------\n",
            "Train |    17/17   | loss:    3.8557 | fps:  207.9968 | acc:    0.9191   \n",
            "Valid |     4/4    | loss:    3.8231 | fps:  515.6044 | acc:    0.9766   \n",
            "\n",
            "Epoch 26/30\n",
            "----------\n",
            "Train |    17/17   | loss:    3.8601 | fps:  210.1690 | acc:    0.9097   \n",
            "Valid |     4/4    | loss:    3.8169 | fps:  524.5135 | acc:    0.9453   \n",
            "\n",
            "Epoch 27/30\n",
            "----------\n",
            "Train |    17/17   | loss:    3.8543 | fps:  224.8519 | acc:    0.9301   \n",
            "Valid |     4/4    | loss:    3.8101 | fps:  534.6692 | acc:    0.9375   \n",
            "\n",
            "Epoch 28/30\n",
            "----------\n",
            "Train |    17/17   | loss:    3.8502 | fps:  214.6219 | acc:    0.9375   \n",
            "Valid |     4/4    | loss:    3.8190 | fps:  528.8244 | acc:    0.9062   \n",
            "\n",
            "Epoch 29/30\n",
            "----------\n",
            "Train |    17/17   | loss:    3.8586 | fps:  211.4372 | acc:    0.8939   \n",
            "Valid |     4/4    | loss:    3.8114 | fps:  542.3320 | acc:    0.8906   \n",
            "\n",
            "Epoch 30/30\n",
            "----------\n",
            "Train |    17/17   | loss:    3.8534 | fps:  214.6666 | acc:    0.9449   \n",
            "Valid |     4/4    | loss:    3.8158 | fps:  518.3552 | acc:    0.9219   \n"
          ],
          "name": "stdout"
        }
      ]
    },
    {
      "cell_type": "code",
      "metadata": {
        "id": "oouI9BW-BFst",
        "colab_type": "code",
        "colab": {}
      },
      "source": [
        "torch.save(resnet,'fulldata_30_epoch_VGGFACE2_T9449V9219.pb')"
      ],
      "execution_count": 0,
      "outputs": []
    },
    {
      "cell_type": "code",
      "metadata": {
        "id": "PHsDAvHEAnkw",
        "colab_type": "code",
        "colab": {}
      },
      "source": [
        "torch.save(resnet,'8_epoch_VGGFACE2_T8406V05156.pb')"
      ],
      "execution_count": 0,
      "outputs": []
    },
    {
      "cell_type": "code",
      "metadata": {
        "id": "zCDLbNPFAngp",
        "colab_type": "code",
        "colab": {}
      },
      "source": [
        "torch.save(resnet,'30_epoch_VGGFACE2_T9060V05781.pb')"
      ],
      "execution_count": 0,
      "outputs": []
    },
    {
      "cell_type": "code",
      "metadata": {
        "id": "Z0aMEp5VIdLl",
        "colab_type": "code",
        "colab": {
          "base_uri": "https://localhost:8080/",
          "height": 53
        },
        "outputId": "ea7df2d3-62c6-4a2d-cb3b-cc76debf6956"
      },
      "source": [
        "resnet.eval()\n",
        "writer = SummaryWriter()\n",
        "writer.iteration, writer.interval = 0, 10\n",
        "test_set = datasets.ImageFolder('align_test', transform=data_transforms['align_test'])\n",
        "img_inds = np.arange(len(test_set))\n",
        "np.random.shuffle(img_inds)\n",
        "test_inds = img_inds[:]\n",
        "test_loader= DataLoader(\n",
        "    dataset,\n",
        "    num_workers=workers,\n",
        "    batch_size=1,\n",
        "    shuffle=False,\n",
        "    #sampler=SubsetRandomSampler(test_inds)\n",
        ")\n",
        "training.pass_epoch(resnet, loss_fn,test_loader,batch_metrics=metrics, show_running=True, device=device\n",
        "    )"
      ],
      "execution_count": 86,
      "outputs": [
        {
          "output_type": "stream",
          "text": [
            "Valid |   519/519  | loss:    3.9079 | fps:   36.1773 | acc:    0.8401   \n"
          ],
          "name": "stdout"
        },
        {
          "output_type": "execute_result",
          "data": {
            "text/plain": [
              "(tensor(3.9079), {'acc': tensor(0.8401), 'fps': tensor(36.1773)})"
            ]
          },
          "metadata": {
            "tags": []
          },
          "execution_count": 86
        }
      ]
    },
    {
      "cell_type": "code",
      "metadata": {
        "id": "Jr8LHzvEIc-s",
        "colab_type": "code",
        "colab": {
          "base_uri": "https://localhost:8080/",
          "height": 89
        },
        "outputId": "af2e853c-9011-4e6e-f224-6c2a3bf77a0e"
      },
      "source": [
        "count=0\n",
        "resnet.eval()\n",
        "for index,tensor in enumerate(test_loader):\n",
        "    #image=torch.Tensor(image)#image[0]shape:(10, 3, 480, 480)\n",
        "    #image=np.array(image)#为使用快速索引，转化为array\n",
        "    #print(contains)\n",
        "    image=tensor[0]\n",
        "    image=image.cuda()\n",
        "    print(image.shape)\n",
        "    name=resnet(image)\n",
        "    #print(len(image))\n",
        "    name=name.to('cpu')\n",
        "    name=name.detach().numpy()\n",
        "    name=name.tolist()\n",
        "    print((name[0]).index(max(name[0])))#print(ll.index(max(ll)))\n",
        "    if count>0:#取第一个rpoch\n",
        "        break\n",
        "    count+=1"
      ],
      "execution_count": 76,
      "outputs": [
        {
          "output_type": "stream",
          "text": [
            "torch.Size([1, 3, 160, 160])\n",
            "4\n",
            "torch.Size([1, 3, 160, 160])\n",
            "15\n"
          ],
          "name": "stdout"
        }
      ]
    },
    {
      "cell_type": "code",
      "metadata": {
        "id": "6DKdamlwLPR3",
        "colab_type": "code",
        "colab": {
          "base_uri": "https://localhost:8080/",
          "height": 1000
        },
        "outputId": "a385f95e-400a-4bc1-9c31-9da784c65458"
      },
      "source": [
        "count=0\n",
        "resnet.eval()\n",
        "\n",
        "tp = 0\n",
        "tn = 0\n",
        "fp = 0\n",
        "fn = 0\n",
        "\n",
        "for i in range(104):\n",
        "    image_tensor,label =(test_set.__getitem__(i))\n",
        "    #image=torch.Tensor(image)#image[0]shape:(10, 3, 480, 480)\n",
        "    #image=np.array(image)#为使用快速索引，转化为array\n",
        "    #print(contains)\n",
        "    image=image_tensor.cuda()\n",
        "    image=image.reshape(1,3,160,160)\n",
        "    #print(type(image))\n",
        "    name=resnet(image)\n",
        "    #print(len(image))\n",
        "    name=name.to('cpu')\n",
        "    name=name.detach().numpy()\n",
        "    name=name.tolist()\n",
        "    pred=(name[0].index(max(name[0])))\n",
        "    if pred==label:\n",
        "      tp+=1\n",
        "    #if count>9:#取第一个rpoch\n",
        "    #    break\n",
        "    count+=1"
      ],
      "execution_count": 92,
      "outputs": [
        {
          "output_type": "stream",
          "text": [
            "<class 'torch.Tensor'>\n",
            "<class 'torch.Tensor'>\n",
            "<class 'torch.Tensor'>\n",
            "<class 'torch.Tensor'>\n",
            "<class 'torch.Tensor'>\n",
            "<class 'torch.Tensor'>\n",
            "<class 'torch.Tensor'>\n",
            "<class 'torch.Tensor'>\n",
            "<class 'torch.Tensor'>\n",
            "<class 'torch.Tensor'>\n",
            "<class 'torch.Tensor'>\n",
            "<class 'torch.Tensor'>\n",
            "<class 'torch.Tensor'>\n",
            "<class 'torch.Tensor'>\n",
            "<class 'torch.Tensor'>\n",
            "<class 'torch.Tensor'>\n",
            "<class 'torch.Tensor'>\n",
            "<class 'torch.Tensor'>\n",
            "<class 'torch.Tensor'>\n",
            "<class 'torch.Tensor'>\n",
            "<class 'torch.Tensor'>\n",
            "<class 'torch.Tensor'>\n",
            "<class 'torch.Tensor'>\n",
            "<class 'torch.Tensor'>\n",
            "<class 'torch.Tensor'>\n",
            "<class 'torch.Tensor'>\n",
            "<class 'torch.Tensor'>\n",
            "<class 'torch.Tensor'>\n",
            "<class 'torch.Tensor'>\n",
            "<class 'torch.Tensor'>\n",
            "<class 'torch.Tensor'>\n",
            "<class 'torch.Tensor'>\n",
            "<class 'torch.Tensor'>\n",
            "<class 'torch.Tensor'>\n",
            "<class 'torch.Tensor'>\n",
            "<class 'torch.Tensor'>\n",
            "<class 'torch.Tensor'>\n",
            "<class 'torch.Tensor'>\n",
            "<class 'torch.Tensor'>\n",
            "<class 'torch.Tensor'>\n",
            "<class 'torch.Tensor'>\n",
            "<class 'torch.Tensor'>\n",
            "<class 'torch.Tensor'>\n",
            "<class 'torch.Tensor'>\n",
            "<class 'torch.Tensor'>\n",
            "<class 'torch.Tensor'>\n",
            "<class 'torch.Tensor'>\n",
            "<class 'torch.Tensor'>\n",
            "<class 'torch.Tensor'>\n",
            "<class 'torch.Tensor'>\n",
            "<class 'torch.Tensor'>\n",
            "<class 'torch.Tensor'>\n",
            "<class 'torch.Tensor'>\n",
            "<class 'torch.Tensor'>\n",
            "<class 'torch.Tensor'>\n",
            "<class 'torch.Tensor'>\n",
            "<class 'torch.Tensor'>\n",
            "<class 'torch.Tensor'>\n",
            "<class 'torch.Tensor'>\n",
            "<class 'torch.Tensor'>\n",
            "<class 'torch.Tensor'>\n",
            "<class 'torch.Tensor'>\n",
            "<class 'torch.Tensor'>\n",
            "<class 'torch.Tensor'>\n",
            "<class 'torch.Tensor'>\n",
            "<class 'torch.Tensor'>\n",
            "<class 'torch.Tensor'>\n",
            "<class 'torch.Tensor'>\n",
            "<class 'torch.Tensor'>\n",
            "<class 'torch.Tensor'>\n",
            "<class 'torch.Tensor'>\n",
            "<class 'torch.Tensor'>\n",
            "<class 'torch.Tensor'>\n",
            "<class 'torch.Tensor'>\n",
            "<class 'torch.Tensor'>\n",
            "<class 'torch.Tensor'>\n",
            "<class 'torch.Tensor'>\n",
            "<class 'torch.Tensor'>\n",
            "<class 'torch.Tensor'>\n",
            "<class 'torch.Tensor'>\n",
            "<class 'torch.Tensor'>\n",
            "<class 'torch.Tensor'>\n",
            "<class 'torch.Tensor'>\n",
            "<class 'torch.Tensor'>\n",
            "<class 'torch.Tensor'>\n",
            "<class 'torch.Tensor'>\n",
            "<class 'torch.Tensor'>\n",
            "<class 'torch.Tensor'>\n",
            "<class 'torch.Tensor'>\n",
            "<class 'torch.Tensor'>\n",
            "<class 'torch.Tensor'>\n",
            "<class 'torch.Tensor'>\n",
            "<class 'torch.Tensor'>\n",
            "<class 'torch.Tensor'>\n",
            "<class 'torch.Tensor'>\n",
            "<class 'torch.Tensor'>\n",
            "<class 'torch.Tensor'>\n",
            "<class 'torch.Tensor'>\n",
            "<class 'torch.Tensor'>\n",
            "<class 'torch.Tensor'>\n",
            "<class 'torch.Tensor'>\n",
            "<class 'torch.Tensor'>\n",
            "<class 'torch.Tensor'>\n",
            "<class 'torch.Tensor'>\n"
          ],
          "name": "stdout"
        }
      ]
    },
    {
      "cell_type": "code",
      "metadata": {
        "id": "JgYQefzdLPKW",
        "colab_type": "code",
        "colab": {
          "base_uri": "https://localhost:8080/",
          "height": 35
        },
        "outputId": "cd90db62-7f0c-4501-a71e-1d30693ba82f"
      },
      "source": [
        "print(tp)"
      ],
      "execution_count": 93,
      "outputs": [
        {
          "output_type": "stream",
          "text": [
            "62\n"
          ],
          "name": "stdout"
        }
      ]
    },
    {
      "cell_type": "code",
      "metadata": {
        "id": "IFUbqYRzLO9H",
        "colab_type": "code",
        "colab": {}
      },
      "source": [
        ""
      ],
      "execution_count": 0,
      "outputs": []
    },
    {
      "cell_type": "markdown",
      "metadata": {
        "id": "HfRRrR6lD-3J",
        "colab_type": "text"
      },
      "source": [
        "### 想修改test文件"
      ]
    },
    {
      "cell_type": "code",
      "metadata": {
        "id": "jGi2e2rpCXMP",
        "colab_type": "code",
        "colab": {}
      },
      "source": [
        "def scan_files(directory, prefix=None, postfix=None):\n",
        "    \"\"\"\n",
        "    参数directory表示目录名，prefix和postfix是目录的前后缀，默认是没有的\n",
        "    该函数可以循环扫描directory目录及其子目录下所有的文件，以列表形式返回\n",
        "    \"\"\"\n",
        "    files_list = []\n",
        "    for root, sub_dirs, files in os.walk(directory):\n",
        "        for special_file in files:\n",
        "            if postfix:\n",
        "                if special_file.endswith(postfix):\n",
        "                    files_list.append(os.path.join(root, special_file))\n",
        "            elif prefix:\n",
        "                if special_file.startswith(prefix):\n",
        "                    files_list.append(os.path.join(root, special_file))\n",
        "            else:\n",
        "                files_list.append(os.path.join(root, special_file))\n",
        "    return files_list#返回目录和子目录下所有文件\n",
        "test_list=scan_files('test')"
      ],
      "execution_count": 0,
      "outputs": []
    },
    {
      "cell_type": "code",
      "metadata": {
        "id": "gWaGrJKDCeTe",
        "colab_type": "code",
        "outputId": "4986ef4d-81de-4c7e-b129-8c49872525d2",
        "colab": {
          "base_uri": "https://localhost:8080/",
          "height": 1000
        }
      },
      "source": [
        "test_list"
      ],
      "execution_count": 0,
      "outputs": [
        {
          "output_type": "execute_result",
          "data": {
            "text/plain": [
              "['test/司翀杰.jpg',\n",
              " 'test/曾家俊.jpg',\n",
              " 'test/刘漪琛.jpg',\n",
              " 'test/罗琦晴.jpg',\n",
              " 'test/赵琦.jpg',\n",
              " 'test/陶特.jpg',\n",
              " 'test/丁自超.jpg',\n",
              " 'test/邵一展.jpg',\n",
              " 'test/张硕.jpg',\n",
              " 'test/朱佳涛.jpg',\n",
              " 'test/李浩天.jpg',\n",
              " 'test/尹行健.jpg',\n",
              " 'test/吉中旭.jpg',\n",
              " 'test/朱浩鹏.jpg',\n",
              " 'test/庄祎.JPG',\n",
              " 'test/卢正轩.jpg',\n",
              " 'test/盛憬昊.jpg',\n",
              " 'test/黄腾.jpg',\n",
              " 'test/武逸仙.jpg',\n",
              " 'test/李翔宇.jpg',\n",
              " 'test/祁畅.jpg',\n",
              " 'test/林欣.jpg',\n",
              " 'test/高奕辰.jpg',\n",
              " 'test/张政.jpg',\n",
              " 'test/戴恒洁.jpg',\n",
              " 'test/朱斌.jpg',\n",
              " 'test/张文杰.jpg',\n",
              " 'test/邵彤.jpg',\n",
              " 'test/徐浩卿.jpg',\n",
              " 'test/孙诚.jpg',\n",
              " 'test/何洋龙.jpg',\n",
              " 'test/陈嘉源.jpg',\n",
              " 'test/徐昱玮.jpg',\n",
              " 'test/王明扬.jpg',\n",
              " 'test/高成睿.jpg',\n",
              " 'test/孔译轮.jpg',\n",
              " 'test/曹思辰.JPG',\n",
              " 'test/沈毅.jpg',\n",
              " 'test/张雨.jpg',\n",
              " 'test/张立创.jpg',\n",
              " 'test/王士一.jpg',\n",
              " 'test/沈飞鸿.jpg',\n",
              " 'test/李辰浩.jpg',\n",
              " 'test/陈耀龙.jpg',\n",
              " 'test/尹鑫龙.jpg',\n",
              " 'test/王行健.jpg',\n",
              " 'test/邹家馨.jpg',\n",
              " 'test/鲁瀚洋.jpg',\n",
              " 'test/周圣阳.jpg',\n",
              " 'test/姚杳.jpg',\n",
              " 'test/黄一凡.jpg',\n",
              " 'test/杜宇涵.jpg',\n",
              " 'test/王一名.jpg',\n",
              " 'test/丁自民.jpg',\n",
              " 'test/沈书杨.jpg',\n",
              " 'test/陈耿.jpg',\n",
              " 'test/黄华程.jpg',\n",
              " 'test/陈文丽.jpg',\n",
              " 'test/王明灏.JPG',\n",
              " 'test/唐伟.jpg',\n",
              " 'test/佘瑾南.JPG',\n",
              " 'test/周之遥.jpg',\n",
              " 'test/高捷.jpg',\n",
              " 'test/蒋林煊.jpg',\n",
              " 'test/薛翔天.jpg',\n",
              " 'test/张博宇.jpg',\n",
              " 'test/王贵涛.jpg',\n",
              " 'test/廖滔.jpg',\n",
              " 'test/徐逸飞.jpg',\n",
              " 'test/陈震寰.jpg',\n",
              " 'test/李璟宸.jpg',\n",
              " 'test/王昕彤.jpg',\n",
              " 'test/钟倩如.jpg',\n",
              " 'test/张骥.jpg',\n",
              " 'test/王立远.jpg',\n",
              " 'test/吴亦珂.jpg',\n",
              " 'test/李孟泽.jpg',\n",
              " 'test/王屹之.jpg',\n",
              " 'test/李春澍.jpg',\n",
              " 'test/卢甲浩.jpg',\n",
              " 'test/边浩文.jpg',\n",
              " 'test/祁丁然.jpg',\n",
              " 'test/白劭宸.jpg',\n",
              " 'test/徐子轩.jpg',\n",
              " 'test/赵基藤.jpg',\n",
              " 'test/李浩瑞.jpg',\n",
              " 'test/游家伟.jpg',\n",
              " 'test/栾岱洋.jpg',\n",
              " 'test/方大政.jpg',\n",
              " 'test/陈品多.jpg',\n",
              " 'test/张欣然.jpg',\n",
              " 'test/郁航远.jpg',\n",
              " 'test/杜熙源.jpg',\n",
              " 'test/胡艺凡.jpg',\n",
              " 'test/王靖婷.jpg',\n",
              " 'test/石知一.jpg',\n",
              " 'test/羊宇培.jpg',\n",
              " 'test/岳元浩.jpg',\n",
              " 'test/张淼森.jpg',\n",
              " 'test/周吾君.jpg',\n",
              " 'test/陈翼张.jpg',\n",
              " 'test/闻浩.jpg',\n",
              " 'test/唐云龙.jpg',\n",
              " 'test/王倩.jpg']"
            ]
          },
          "metadata": {
            "tags": []
          },
          "execution_count": 63
        }
      ]
    },
    {
      "cell_type": "code",
      "metadata": {
        "id": "9971Cpg8Cq14",
        "colab_type": "code",
        "colab": {}
      },
      "source": [
        "original_testset_dir='test'\n",
        "structure_test_dir='structure_test_dir'\n",
        "test_path = structure_test_dir\n",
        "for item in os.listdir(original_testset_dir):\n",
        "    os.makedirs(test_path+\"/\"+str(item).strip('.jpg'))\n",
        "    img = cv2_imread(original_testset_dir+'/'+str(item))\n",
        "    cv2_imwrite(test_path+\"/\"+str(item).strip('.jpg')+'/'+str(item), img)"
      ],
      "execution_count": 0,
      "outputs": []
    },
    {
      "cell_type": "code",
      "metadata": {
        "id": "iaZBlEk33xOY",
        "colab_type": "code",
        "outputId": "a1f1c87c-be3c-46b4-9a08-0a78cd110b71",
        "colab": {
          "base_uri": "https://localhost:8080/",
          "height": 369
        }
      },
      "source": [
        "model_ft.avgpool_1a = nn.AdaptiveAvgPool2d(output_size=1)\n",
        "model_ft.last_linear = nn.Sequential(\n",
        "    Flatten(),\n",
        "    nn.Linear(in_features=1792, out_features=512, bias=False),\n",
        "    normalize()\n",
        ")\n",
        "model_ft.logits = nn.Linear(layer_list[3].in_features, len(class_names))\n",
        "model_ft.softmax = nn.Softmax(dim=1)\n",
        "model_ft = model_ft.to(device)\n",
        "criterion = nn.CrossEntropyLoss()\n",
        "# Observe that all parameters are being optimized\n",
        "optimizer_ft = optim.SGD(model_ft.parameters(), lr=1e-2, momentum=0.9)\n",
        "# Decay LR by a factor of *gamma* every *step_size* epochs\n",
        "exp_lr_scheduler = lr_scheduler.StepLR(optimizer_ft, step_size=7, gamma=0.1)"
      ],
      "execution_count": 0,
      "outputs": [
        {
          "output_type": "error",
          "ename": "AttributeError",
          "evalue": "ignored",
          "traceback": [
            "\u001b[0;31m---------------------------------------------------------------------------\u001b[0m",
            "\u001b[0;31mAttributeError\u001b[0m                            Traceback (most recent call last)",
            "\u001b[0;32m<ipython-input-61-42e22ed33219>\u001b[0m in \u001b[0;36m<module>\u001b[0;34m()\u001b[0m\n\u001b[1;32m      5\u001b[0m     \u001b[0mnormalize\u001b[0m\u001b[0;34m(\u001b[0m\u001b[0;34m)\u001b[0m\u001b[0;34m\u001b[0m\u001b[0;34m\u001b[0m\u001b[0m\n\u001b[1;32m      6\u001b[0m )\n\u001b[0;32m----> 7\u001b[0;31m \u001b[0mmodel_ft\u001b[0m\u001b[0;34m.\u001b[0m\u001b[0mlogits\u001b[0m \u001b[0;34m=\u001b[0m \u001b[0mnn\u001b[0m\u001b[0;34m.\u001b[0m\u001b[0mLinear\u001b[0m\u001b[0;34m(\u001b[0m\u001b[0mlayer_list\u001b[0m\u001b[0;34m[\u001b[0m\u001b[0;36m3\u001b[0m\u001b[0;34m]\u001b[0m\u001b[0;34m.\u001b[0m\u001b[0min_features\u001b[0m\u001b[0;34m,\u001b[0m \u001b[0mlen\u001b[0m\u001b[0;34m(\u001b[0m\u001b[0mclass_names\u001b[0m\u001b[0;34m)\u001b[0m\u001b[0;34m)\u001b[0m\u001b[0;34m\u001b[0m\u001b[0;34m\u001b[0m\u001b[0m\n\u001b[0m\u001b[1;32m      8\u001b[0m \u001b[0mmodel_ft\u001b[0m\u001b[0;34m.\u001b[0m\u001b[0msoftmax\u001b[0m \u001b[0;34m=\u001b[0m \u001b[0mnn\u001b[0m\u001b[0;34m.\u001b[0m\u001b[0mSoftmax\u001b[0m\u001b[0;34m(\u001b[0m\u001b[0mdim\u001b[0m\u001b[0;34m=\u001b[0m\u001b[0;36m1\u001b[0m\u001b[0;34m)\u001b[0m\u001b[0;34m\u001b[0m\u001b[0;34m\u001b[0m\u001b[0m\n\u001b[1;32m      9\u001b[0m \u001b[0mmodel_ft\u001b[0m \u001b[0;34m=\u001b[0m \u001b[0mmodel_ft\u001b[0m\u001b[0;34m.\u001b[0m\u001b[0mto\u001b[0m\u001b[0;34m(\u001b[0m\u001b[0mdevice\u001b[0m\u001b[0;34m)\u001b[0m\u001b[0;34m\u001b[0m\u001b[0;34m\u001b[0m\u001b[0m\n",
            "\u001b[0;32m/usr/local/lib/python3.6/dist-packages/torch/nn/modules/module.py\u001b[0m in \u001b[0;36m__getattr__\u001b[0;34m(self, name)\u001b[0m\n\u001b[1;32m    592\u001b[0m                 \u001b[0;32mreturn\u001b[0m \u001b[0mmodules\u001b[0m\u001b[0;34m[\u001b[0m\u001b[0mname\u001b[0m\u001b[0;34m]\u001b[0m\u001b[0;34m\u001b[0m\u001b[0;34m\u001b[0m\u001b[0m\n\u001b[1;32m    593\u001b[0m         raise AttributeError(\"'{}' object has no attribute '{}'\".format(\n\u001b[0;32m--> 594\u001b[0;31m             type(self).__name__, name))\n\u001b[0m\u001b[1;32m    595\u001b[0m \u001b[0;34m\u001b[0m\u001b[0m\n\u001b[1;32m    596\u001b[0m     \u001b[0;32mdef\u001b[0m \u001b[0m__setattr__\u001b[0m\u001b[0;34m(\u001b[0m\u001b[0mself\u001b[0m\u001b[0;34m,\u001b[0m \u001b[0mname\u001b[0m\u001b[0;34m,\u001b[0m \u001b[0mvalue\u001b[0m\u001b[0;34m)\u001b[0m\u001b[0;34m:\u001b[0m\u001b[0;34m\u001b[0m\u001b[0;34m\u001b[0m\u001b[0m\n",
            "\u001b[0;31mAttributeError\u001b[0m: 'BatchNorm1d' object has no attribute 'in_features'"
          ]
        }
      ]
    },
    {
      "cell_type": "code",
      "metadata": {
        "id": "EMIHbsHz4IiI",
        "colab_type": "code",
        "colab": {}
      },
      "source": [
        "def train_model(model, criterion, optimizer, scheduler,\n",
        "                num_epochs=25):\n",
        "    since = time.time()\n",
        "    FT_losses = []\n",
        "    best_model_wts = copy.deepcopy(model.state_dict())\n",
        "    best_acc = 0.0\n",
        "    for epoch in range(num_epochs):\n",
        "        print('Epoch {}/{}'.format(epoch, num_epochs - 1))\n",
        "        print('-' * 10)\n",
        "    # Each epoch has a training and validation phase\n",
        "        for phase in ['train', 'val']:\n",
        "            if phase == 'train':\n",
        "                model.train()  # Set model to training mode\n",
        "            else:\n",
        "                model.eval()   # Set model to evaluate mode\n",
        "            running_loss = 0.0\n",
        "            running_corrects = 0\n",
        "            # Iterate over data.\n",
        "            for inputs, labels in dataloaders[phase]:\n",
        "                inputs = inputs.to(device)\n",
        "                labels = labels.to(device)\n",
        "                # zero the parameter gradients\n",
        "                optimizer.zero_grad()\n",
        "                # forward\n",
        "                # track history if only in train\n",
        "                with torch.set_grad_enabled(phase == 'train'):\n",
        "                    outputs = model(inputs)\n",
        "                    _, preds = torch.max(outputs, 1)\n",
        "                    loss = criterion(outputs, labels)\n",
        "                    # backward + optimize only if in training phase\n",
        "                    if phase == 'train':\n",
        "                        loss.backward()\n",
        "                        optimizer.step()\n",
        "                        scheduler.step()\n",
        "                \n",
        "                FT_losses.append(loss.item())\n",
        "                # statistics\n",
        "                running_loss += loss.item() * inputs.size(0)\n",
        "                running_corrects += torch.sum(preds == labels.data)\n",
        "            epoch_loss = running_loss / dataset_sizes[phase]\n",
        "            epoch_acc = running_corrects.double() /\n",
        "                         dataset_sizes[phase]\n",
        "            print('{} Loss: {:.4f} Acc: {:.4f}'.format(\n",
        "                phase, epoch_loss, epoch_acc))\n",
        "            # deep copy the model\n",
        "            if phase == 'val' and epoch_acc > best_acc:\n",
        "                best_acc = epoch_acc\n",
        "                best_model_wts = copy.deepcopy(model.state_dict())\n",
        "    time_elapsed = time.time() - since\n",
        "    print('Training complete in {:.0f}m {:.0f}s'.format(\n",
        "        time_elapsed // 60, time_elapsed % 60))\n",
        "    print('Best val Acc: {:4f}'.format(best_acc))\n",
        "    # load best model weights\n",
        "    model.load_state_dict(best_model_wts)\n",
        "    return model, FT_losses"
      ],
      "execution_count": 0,
      "outputs": []
    },
    {
      "cell_type": "code",
      "metadata": {
        "id": "dOf5XWgZ3xLk",
        "colab_type": "code",
        "colab": {}
      },
      "source": [
        ""
      ],
      "execution_count": 0,
      "outputs": []
    },
    {
      "cell_type": "code",
      "metadata": {
        "id": "eGKZfqYj3jau",
        "colab_type": "code",
        "colab": {}
      },
      "source": [
        ""
      ],
      "execution_count": 0,
      "outputs": []
    },
    {
      "cell_type": "code",
      "metadata": {
        "id": "GAb3z-C8x7BJ",
        "colab_type": "code",
        "outputId": "d6cec8b9-731d-447a-e0d8-5166e417aad4",
        "colab": {
          "base_uri": "https://localhost:8080/",
          "height": 71
        }
      },
      "source": [
        "!ls"
      ],
      "execution_count": 0,
      "outputs": [
        {
          "output_type": "stream",
          "text": [
            " data\t\t\t EVOLVE\t\t\t  train\n",
            "'data\\09118223_吴亦珂'\t normalized_dataexclude   人脸识别大作业\n",
            " dataset-tools\t\t test\t\t\t  数据库图片\n"
          ],
          "name": "stdout"
        }
      ]
    },
    {
      "cell_type": "code",
      "metadata": {
        "id": "dhHpesYPPYtG",
        "colab_type": "code",
        "outputId": "aeef8bfe-4921-4948-8409-cce8d61c918e",
        "colab": {
          "base_uri": "https://localhost:8080/",
          "height": 35
        }
      },
      "source": [
        "print(\"清洗后照片总共:\" + str(len(train_dataset)))"
      ],
      "execution_count": 0,
      "outputs": [
        {
          "output_type": "stream",
          "text": [
            "清洗后照片总共:518\n"
          ],
          "name": "stdout"
        }
      ]
    },
    {
      "cell_type": "code",
      "metadata": {
        "id": "lmnXRIIccjvO",
        "colab_type": "code",
        "outputId": "f514fc78-86ef-4ec5-e93f-154e102f3402",
        "colab": {
          "base_uri": "https://localhost:8080/",
          "height": 305
        }
      },
      "source": [
        "raw_dataset = datasets.ImageFolder(root='data',\n",
        "                                   transform=None)\n",
        "#展示一张原始照\n",
        "raw_img, label = raw_dataset.__getitem__(50)\n",
        "print(raw_img.size)  # 图片尺寸\n",
        "plt.imshow(raw_img)"
      ],
      "execution_count": 0,
      "outputs": [
        {
          "output_type": "stream",
          "text": [
            "(160, 160)\n"
          ],
          "name": "stdout"
        },
        {
          "output_type": "execute_result",
          "data": {
            "text/plain": [
              "<matplotlib.image.AxesImage at 0x7fa3a64aac18>"
            ]
          },
          "metadata": {
            "tags": []
          },
          "execution_count": 39
        },
        {
          "output_type": "display_data",
          "data": {
            "image/png": "[encoded data removed]",
            "text/plain": [
              "<Figure size 432x288 with 1 Axes>"
            ]
          },
          "metadata": {
            "tags": [],
            "needs_background": "light"
          }
        }
      ]
    },
    {
      "cell_type": "code",
      "metadata": {
        "id": "sLGLjOx6fcrO",
        "colab_type": "code",
        "colab": {}
      },
      "source": [
        "%matplotlib inline\n",
        "import os\n",
        "import numpy as np\n",
        "import torch\n",
        "import torch.nn as nn\n",
        "import torch.nn.functional as F\n",
        "import shutil\n",
        "import torch.optim as optim\n",
        "from torch.autograd import Variable\n",
        "from torch.utils.data import Dataset\n",
        "from torchvision import transforms, datasets, models\n",
        "from torchvision.transforms import ToPILImage  # 显示图片使用\n",
        "from matplotlib import pyplot as plt\n",
        "from PIL import Image"
      ],
      "execution_count": 0,
      "outputs": []
    },
    {
      "cell_type": "code",
      "metadata": {
        "id": "yKvbihZrfGHY",
        "colab_type": "code",
        "outputId": "c236cc05-d8c5-45a2-cd2d-4cfc907d04d1",
        "colab": {
          "base_uri": "https://localhost:8080/",
          "height": 305
        }
      },
      "source": [
        "# 图像预处理\n",
        "img_tensor, label = train_dataset.__getitem__(517)\n",
        "print(img_tensor.shape)  # 图片尺寸\n",
        "img = ToPILImage()(img_tensor)  # 转化为PIL image\n",
        "plt.imshow(img)\n",
        "print(label)"
      ],
      "execution_count": 0,
      "outputs": [
        {
          "output_type": "stream",
          "text": [
            "torch.Size([3, 160, 160])\n",
            "103\n"
          ],
          "name": "stdout"
        },
        {
          "output_type": "display_data",
          "data": {
            "image/png": "[encoded data removed]",
            "text/plain": [
              "<Figure size 432x288 with 1 Axes>"
            ]
          },
          "metadata": {
            "tags": [],
            "needs_background": "light"
          }
        }
      ]
    },
    {
      "cell_type": "code",
      "metadata": {
        "pycharm": {
          "name": "#%% \n",
          "is_executing": false
        },
        "id": "JlP3SbmtVdgR",
        "colab_type": "code",
        "colab": {}
      },
      "source": [
        "#################################START OF YOUR HOMEWORK#################################\n",
        "\n",
        "from facenet_pytorch import MTCNN, InceptionResnetV1, fixed_image_standardization, training\n",
        "import torch\n",
        "from torch.utils.data import DataLoader, SubsetRandomSampler\n",
        "from torch import optim\n",
        "from torch.optim.lr_scheduler import MultiStepLR\n",
        "from torchvision import datasets, transforms\n",
        "import numpy as np\n",
        "\n",
        "data_dir = 'data'\n",
        "\n",
        "batch_size = 32\n",
        "epochs = 8\n",
        "workers = 0 if os.name == 'nt' else 8\n",
        "device = torch.device('cuda:0' if torch.cuda.is_available() else 'cpu')\n",
        "print('Running on device: {}'.format(device))\n",
        "\n",
        "\n",
        "resnet = InceptionResnetV1(\n",
        "    classify=True,\n",
        "    pretrained='vggface2',\n",
        "    num_classes=len(dataset.class_to_idx)\n",
        ").to(device)\n",
        "\n",
        "optimizer = optim.Adam(resnet.parameters(), lr=0.001)\n",
        "scheduler = MultiStepLR(optimizer, [5, 10])\n",
        "\n",
        "trans = transforms.Compose([\n",
        "    np.float32,\n",
        "    transforms.ToTensor(),\n",
        "    fixed_image_standardization\n",
        "])\n",
        "\n",
        "data_dir='data'\n",
        "\n",
        "dataset = datasets.ImageFolder(data_dir, transform=trans)\n",
        "img_inds = np.arange(len(dataset))\n",
        "np.random.shuffle(img_inds)\n",
        "train_inds = img_inds[:int(0.8 * len(img_inds))]\n",
        "val_inds = img_inds[int(0.8 * len(img_inds)):]\n",
        "\n",
        "train_loader = DataLoader(\n",
        "    dataset,\n",
        "    num_workers=workers,\n",
        "    batch_size=batch_size,\n",
        "    sampler=SubsetRandomSampler(train_inds)\n",
        ")\n",
        "val_loader = DataLoader(\n",
        "    dataset,\n",
        "    num_workers=workers,\n",
        "    batch_size=batch_size,\n",
        "    sampler=SubsetRandomSampler(val_inds)\n",
        ")\n",
        "\n",
        "loss_fn = torch.nn.CrossEntropyLoss()\n",
        "metrics = {\n",
        "    'fps': training.BatchTimer(),\n",
        "    'acc': training.accuracy\n",
        "}\n",
        "\n",
        "\n",
        "\n",
        "print('\\n\\nInitial')\n",
        "print('-' * 10)\n",
        "resnet.eval()\n",
        "training.pass_epoch(\n",
        "    resnet, loss_fn, val_loader,\n",
        "    batch_metrics=metrics, show_running=True, device=device,\n",
        ")\n",
        "\n",
        "for epoch in range(epochs):\n",
        "    print('\\nEpoch {}/{}'.format(epoch + 1, epochs))\n",
        "    print('-' * 10)\n",
        "\n",
        "    resnet.train()\n",
        "    training.pass_epoch(\n",
        "        resnet, loss_fn, train_loader, optimizer, scheduler,\n",
        "        batch_metrics=metrics, show_running=True, device=device,\n",
        "    )\n",
        "\n",
        "    resnet.eval()\n",
        "    training.pass_epoch(\n",
        "        resnet, loss_fn, val_loader,\n",
        "        batch_metrics=metrics, show_running=True, device=device,\n",
        "    )\n",
        "\n",
        "#################################END OF YOUR HOMEWORK#################################"
      ],
      "execution_count": 0,
      "outputs": []
    },
    {
      "cell_type": "code",
      "metadata": {
        "id": "_CfUjfBiEzCb",
        "colab_type": "code",
        "outputId": "a4a818e0-9e0c-40c8-b743-21e3e211cc22",
        "colab": {
          "base_uri": "https://localhost:8080/",
          "height": 143
        }
      },
      "source": [
        ""
      ],
      "execution_count": 0,
      "outputs": [
        {
          "output_type": "stream",
          "text": [
            "Cloning into 'dataset-tools'...\n",
            "remote: Enumerating objects: 132, done.\u001b[K\n",
            "remote: Counting objects: 100% (132/132), done.\u001b[K\n",
            "remote: Compressing objects: 100% (104/104), done.\u001b[K\n",
            "remote: Total 132 (delta 75), reused 71 (delta 28), pack-reused 0\u001b[K\n",
            "Receiving objects: 100% (132/132), 30.12 KiB | 1.16 MiB/s, done.\n",
            "Resolving deltas: 100% (75/75), done.\n"
          ],
          "name": "stdout"
        }
      ]
    },
    {
      "cell_type": "code",
      "metadata": {
        "id": "nNTxj6-FE45j",
        "colab_type": "code",
        "colab": {}
      },
      "source": [
        ""
      ],
      "execution_count": 0,
      "outputs": []
    },
    {
      "cell_type": "code",
      "metadata": {
        "id": "NsdrSLklFBEO",
        "colab_type": "code",
        "outputId": "22dfb114-dc7a-444a-8835-d1a2ef03ed9a",
        "colab": {
          "base_uri": "https://localhost:8080/",
          "height": 287
        }
      },
      "source": [
        ""
      ],
      "execution_count": 0,
      "outputs": [
        {
          "output_type": "stream",
          "text": [
            "Requirement already satisfied: numpy>=1.7.0 in /usr/local/lib/python3.6/dist-packages (from -r requirements.txt (line 1)) (1.18.4)\n",
            "Collecting imutils==0.5.2\n",
            "  Downloading https://files.pythonhosted.org/packages/5e/0c/659c2bdae8e8ca5ef810b9da02db28feaa29ea448ff36b65a1664ff28142/imutils-0.5.2.tar.gz\n",
            "Requirement already satisfied: opencv-python>=4.1.0.25 in /usr/local/lib/python3.6/dist-packages (from -r requirements.txt (line 3)) (4.1.2.30)\n",
            "Requirement already satisfied: scipy in /usr/local/lib/python3.6/dist-packages (from -r requirements.txt (line 4)) (1.4.1)\n",
            "Building wheels for collected packages: imutils\n",
            "  Building wheel for imutils (setup.py) ... \u001b[?25l\u001b[?25hdone\n",
            "  Created wheel for imutils: filename=imutils-0.5.2-cp36-none-any.whl size=24418 sha256=ab729af94c6d58a29513955824c132c0ed9a88193758d85bba3256b556b6ffc5\n",
            "  Stored in directory: /root/.cache/pip/wheels/b2/40/59/139d450e68847ef2f27d876d527b13389dac23df0f66526b5d\n",
            "Successfully built imutils\n",
            "Installing collected packages: imutils\n",
            "  Found existing installation: imutils 0.5.3\n",
            "    Uninstalling imutils-0.5.3:\n",
            "      Successfully uninstalled imutils-0.5.3\n",
            "Successfully installed imutils-0.5.2\n"
          ],
          "name": "stdout"
        }
      ]
    },
    {
      "cell_type": "code",
      "metadata": {
        "id": "XYjVIOieFS9O",
        "colab_type": "code",
        "outputId": "9b928a36-8880-4eb3-b26d-159ddd3b9a71",
        "colab": {
          "base_uri": "https://localhost:8080/",
          "height": 397
        }
      },
      "source": [
        ""
      ],
      "execution_count": 0,
      "outputs": [
        {
          "output_type": "stream",
          "text": [
            "loading images...\n",
            "sorting images...\n",
            "avg_match1.0\n",
            "processing...\n",
            "total images: 518\n",
            "matching to: 1.JPG\n",
            "0/518\n",
            "Traceback (most recent call last):\n",
            "  File \"dedupe.py\", line 176, in <module>\n",
            "    main()\n",
            "  File \"dedupe.py\", line 172, in main\n",
            "    processImage(imgs,filenames)\n",
            "  File \"dedupe.py\", line 138, in processImage\n",
            "    exclude(imgs,filenames)\n",
            "  File \"dedupe.py\", line 82, in exclude\n",
            "    if compare(img,img2):\n",
            "  File \"dedupe.py\", line 48, in compare\n",
            "    difference = cv2.absdiff(img1, img2)\n",
            "cv2.error: OpenCV(4.1.2) /io/opencv/modules/core/src/arithm.cpp:663: error: (-209:Sizes of input arguments do not match) The operation is neither 'array op array' (where arrays have the same size and the same number of channels), nor 'array op scalar', nor 'scalar op array' in function 'arithm_op'\n",
            "\n"
          ],
          "name": "stdout"
        }
      ]
    },
    {
      "cell_type": "code",
      "metadata": {
        "pycharm": {
          "name": "#%% \n",
          "is_executing": false
        },
        "id": "Rwdjz4LPVdga",
        "colab_type": "code",
        "colab": {}
      },
      "source": [
        "# 人脸识别评测代码    \n",
        "\n",
        "starttime = datetime.datetime.now()\n",
        "right = 0\n",
        "wrong = 0\n",
        "\n",
        "for item in os.listdir(\"test\"):\n",
        "    test_path = \"test/\" + item\n",
        "    if facial_recognition(test_path) == item:\n",
        "        right += 1\n",
        "    else:\n",
        "        wrong += 1\n",
        "\n",
        "accuracy = right / (right+wrong)\n",
        "endtime = datetime.datetime.now()\n",
        "\n",
        "print(\"人脸识别的考察结果：\")\n",
        "print(\"人脸识别的准确率是:\", accuracy)\n",
        "print(\"整个人脸识别的运行时间是：\", (endtime-starttime).seconds, \"s\")\n",
        "\n",
        "# 人脸认证评测代码\n",
        "\n",
        "tp = 0\n",
        "tn = 0\n",
        "fp = 0\n",
        "fn = 0\n",
        "\n",
        "for name in names:\n",
        "    test_path = \"test/\" + name + \".jpg\"\n",
        "    for id in range(len(names)):\n",
        "        result = facial_verification(id, test_path)\n",
        "        if name == names[id] and result == \"True\":\n",
        "            tp +=1\n",
        "        elif name == names[id] and result == \"False\":\n",
        "            fn += 1\n",
        "        elif name != names[id] and result == \"False\":\n",
        "            tn += 1\n",
        "        else:\n",
        "            fp += 1\n",
        "\n",
        "print(\"人脸认证的考察结果:\")\n",
        "print(\"精度:\", tp/(tp+fp))\n",
        "print(\"回归率:\", tp/(tp+fn))\n",
        "print(\"特异性:\", tn/(tn+fp))\n",
        "print(\"F1值:\", 2*tp/(2*tp+fp+fn))\n"
      ],
      "execution_count": 0,
      "outputs": []
    },
    {
      "cell_type": "code",
      "metadata": {
        "id": "By6D6FnDO851",
        "colab_type": "code",
        "colab": {}
      },
      "source": [
        ""
      ],
      "execution_count": 0,
      "outputs": []
    },
    {
      "cell_type": "code",
      "metadata": {
        "id": "J8f_60k6O810",
        "colab_type": "code",
        "colab": {}
      },
      "source": [
        ""
      ],
      "execution_count": 0,
      "outputs": []
    },
    {
      "cell_type": "code",
      "metadata": {
        "id": "RKN1i2ZHO8yM",
        "colab_type": "code",
        "colab": {}
      },
      "source": [
        ""
      ],
      "execution_count": 0,
      "outputs": []
    }
  ]
}